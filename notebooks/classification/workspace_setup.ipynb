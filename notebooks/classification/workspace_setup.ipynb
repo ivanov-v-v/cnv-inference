{
 "cells": [
  {
   "cell_type": "code",
   "execution_count": 7,
   "metadata": {},
   "outputs": [
    {
     "name": "stdout",
     "output_type": "stream",
     "text": [
      "The autoreload extension is already loaded. To reload it, use:\n",
      "  %reload_ext autoreload\n"
     ]
    }
   ],
   "source": [
    "%load_ext autoreload\n",
    "%autoreload 2\n",
    "%matplotlib inline\n",
    "\n",
    "import os\n",
    "\n",
    "%aimport xclone_config\n",
    "project_config = xclone_config\n",
    "os.chdir(project_config.ROOT)\n",
    "\n",
    "import numpy as np\n",
    "import pandas as pd\n",
    "from tqdm import tqdm, tqdm_notebook\n",
    "\n",
    "import util\n",
    "from workspace.workspace_manager import WorkspaceManager"
   ]
  },
  {
   "cell_type": "code",
   "execution_count": 8,
   "metadata": {},
   "outputs": [
    {
     "name": "stderr",
     "output_type": "stream",
     "text": [
      "processing read-only data directory\n",
      "processing workspace directory\n",
      "processing image directory\n",
      "loading data to workspace directory\n"
     ]
    },
    {
     "data": {
      "application/vnd.jupyter.widget-view+json": {
       "model_id": "493198aa0121446c9421a6745557d151",
       "version_major": 2,
       "version_minor": 0
      },
      "text/plain": [
       "HBox(children=(IntProgress(value=0, description='copying files', max=2, style=ProgressStyle(description_width=…"
      ]
     },
     "metadata": {},
     "output_type": "display_data"
    },
    {
     "name": "stderr",
     "output_type": "stream",
     "text": [
      "/icgc/dkfzlsdf/analysis/B260/users/v390v/xclone/data/processed/STP_G&T/scDNA/block_counts.pkl —> /icgc/dkfzlsdf/analysis/B260/users/v390v/xclone/data/tmp/classification/STP_G&T/scDNA/block_counts.pkl\n"
     ]
    },
    {
     "name": "stdout",
     "output_type": "stream",
     "text": [
      "\n"
     ]
    },
    {
     "name": "stderr",
     "output_type": "stream",
     "text": [
      "/icgc/dkfzlsdf/analysis/B260/users/v390v/xclone/data/processed/STP_G&T/scDNA/evo_dist_9_eb_clustering.pkl —> /icgc/dkfzlsdf/analysis/B260/users/v390v/xclone/data/tmp/classification/STP_G&T/scDNA/clustering.pkl\n",
      "processing read-only data directory\n",
      "processing workspace directory\n",
      "processing image directory\n",
      "loading data to workspace directory\n"
     ]
    },
    {
     "data": {
      "application/vnd.jupyter.widget-view+json": {
       "model_id": "2a899d4e61444981b4e852bc3dbe5eb0",
       "version_major": 2,
       "version_minor": 0
      },
      "text/plain": [
       "HBox(children=(IntProgress(value=0, description='copying files', max=1, style=ProgressStyle(description_width=…"
      ]
     },
     "metadata": {},
     "output_type": "display_data"
    },
    {
     "name": "stderr",
     "output_type": "stream",
     "text": [
      "/icgc/dkfzlsdf/analysis/B260/users/v390v/xclone/data/processed/STP_G&T/scRNA/block_counts.pkl —> /icgc/dkfzlsdf/analysis/B260/users/v390v/xclone/data/tmp/classification/STP_G&T/scRNA/block_counts.pkl\n"
     ]
    },
    {
     "name": "stdout",
     "output_type": "stream",
     "text": [
      "\n"
     ]
    }
   ],
   "source": [
    "workspace = {\n",
    "    \"scDNA\" : WorkspaceManager(\n",
    "        task_name=\"classification\",\n",
    "        experiment_info={\n",
    "            \"modality\" : \"scDNA\",\n",
    "            \"sample\" : \"STP_G&T\"\n",
    "        },\n",
    "        verbose=True\n",
    "    ),\n",
    "    \"scRNA\" : WorkspaceManager(\n",
    "        task_name=\"classification\",\n",
    "        experiment_info={\n",
    "            \"modality\" : \"scRNA\",\n",
    "            \"sample\" : \"STP_G&T\"\n",
    "        },\n",
    "        verbose=True\n",
    "    )\n",
    "}\n",
    "\n",
    "# filtering_tag = \"all\"\n",
    "clustering_tag = {\n",
    "    \"scDNA\" : \"evo_dist_9_eb\",\n",
    "#     \"scRNA\" : \"seurat\"\n",
    "}\n",
    "requirements = {\n",
    "    \"scDNA\" : {\n",
    "        \"block_counts\" : \"block_counts.pkl\",\n",
    "        \"clustering\" : f\"{clustering_tag['scDNA']}_clustering.pkl\",\n",
    "#         \"ase\" : f\"cnv_^_haplotype_block_{clustering_tag['scDNA']}_ase.pkl\"\n",
    "    },\n",
    "    \"scRNA\" : {\n",
    "        \"block_counts\" : \"block_counts.pkl\",\n",
    "#         \"clustering\" : f\"{clustering_tag['scRNA']}_clustering.pkl\",\n",
    "#         \"ase\" : f\"{filtering_tag}_{clustering_tag['scRNA']}_ase.pkl\"\n",
    "    }\n",
    "}\n",
    "\n",
    "for data_type in [\"scDNA\", \"scRNA\"]:\n",
    "    workspace[data_type].prepare_workspace(    \n",
    "        requirements=requirements[data_type]\n",
    "    )"
   ]
  },
  {
   "cell_type": "code",
   "execution_count": 9,
   "metadata": {},
   "outputs": [
    {
     "data": {
      "text/html": [
       "<table><tr><th>Task name: </th><td>classification</td></tr></table><table><tr><th>Experiment info: </th><td><table><tr><th>modality</th><td>scDNA</td></tr><tr><th>sample</th><td>STP_G&T</td></tr></table></td></tr></table><table><tr><th>Datasets: </th><td><ul><li>block_counts</li><li>clustering</li></ul></td></tr></table><table><tr><th>Created on </th><td>2019-11-05 16:38</td></tr></table><table><tr><th>Contents: </th><td><table><tr><th>task_name</th><td>classification</td></tr><tr><th>experiment_info</th><td><table><tr><th>modality</th><td>scDNA</td></tr><tr><th>sample</th><td>STP_G&T</td></tr></table></td></tr><tr><th>cookiecutter_info</th><td><table><tr><th>ROOT</th><td>/icgc/dkfzlsdf/analysis/B260/users/v390v/xclone</td></tr><tr><th>DATA</th><td>/icgc/dkfzlsdf/analysis/B260/users/v390v/xclone/data</td></tr><tr><th>RAW</th><td>/icgc/dkfzlsdf/analysis/B260/users/v390v/xclone/data/raw</td></tr><tr><th>TMP</th><td>/icgc/dkfzlsdf/analysis/B260/users/v390v/xclone/data/tmp</td></tr><tr><th>PROCESSED</th><td>/icgc/dkfzlsdf/analysis/B260/users/v390v/xclone/data/processed</td></tr><tr><th>IMG</th><td>/icgc/dkfzlsdf/analysis/B260/users/v390v/xclone/img</td></tr><tr><th>SRC</th><td>/icgc/dkfzlsdf/analysis/B260/users/v390v/xclone/src</td></tr><tr><th>SCRIPTS</th><td>/icgc/dkfzlsdf/analysis/B260/users/v390v/xclone/scripts</td></tr><tr><th>TESTS</th><td>/icgc/dkfzlsdf/analysis/B260/users/v390v/xclone/tests</td></tr><tr><th>LIB</th><td>/icgc/dkfzlsdf/analysis/B260/users/v390v/xclone/lib</td></tr><tr><th>NOTEBOOKS</th><td>/icgc/dkfzlsdf/analysis/B260/users/v390v/xclone/notebooks</td></tr></table></td></tr><tr><th>config_dir</th><td>/icgc/dkfzlsdf/analysis/B260/users/v390v/xclone/notebooks/classification</td></tr><tr><th>data_dir</th><td><table><tr><th>root</th><td>/icgc/dkfzlsdf/analysis/B260/users/v390v/xclone/data/processed</td></tr><tr><th>sample</th><td>/icgc/dkfzlsdf/analysis/B260/users/v390v/xclone/data/processed/STP_G&T</td></tr><tr><th>modality</th><td>/icgc/dkfzlsdf/analysis/B260/users/v390v/xclone/data/processed/STP_G&T/scDNA</td></tr></table></td></tr><tr><th>data</th><td><table><tr><th>block_counts</th><td>/icgc/dkfzlsdf/analysis/B260/users/v390v/xclone/data/processed/STP_G&T/scDNA/block_counts.pkl</td></tr><tr><th>clustering</th><td>/icgc/dkfzlsdf/analysis/B260/users/v390v/xclone/data/processed/STP_G&T/scDNA/evo_dist_9_eb_clustering.pkl</td></tr></table></td></tr><tr><th>tmp_data_dir</th><td><table><tr><th>root</th><td>/icgc/dkfzlsdf/analysis/B260/users/v390v/xclone/data/tmp/classification</td></tr><tr><th>sample</th><td>/icgc/dkfzlsdf/analysis/B260/users/v390v/xclone/data/tmp/classification/STP_G&T</td></tr><tr><th>modality</th><td>/icgc/dkfzlsdf/analysis/B260/users/v390v/xclone/data/tmp/classification/STP_G&T/scDNA</td></tr></table></td></tr><tr><th>tmp_data</th><td><table><tr><th>block_counts</th><td>/icgc/dkfzlsdf/analysis/B260/users/v390v/xclone/data/tmp/classification/STP_G&T/scDNA/block_counts.pkl</td></tr><tr><th>clustering</th><td>/icgc/dkfzlsdf/analysis/B260/users/v390v/xclone/data/tmp/classification/STP_G&T/scDNA/clustering.pkl</td></tr></table></td></tr><tr><th>img_dir</th><td><table><tr><th>root</th><td>/icgc/dkfzlsdf/analysis/B260/users/v390v/xclone/img/classification</td></tr><tr><th>sample</th><td>/icgc/dkfzlsdf/analysis/B260/users/v390v/xclone/img/classification/STP_G&T</td></tr><tr><th>modality</th><td>/icgc/dkfzlsdf/analysis/B260/users/v390v/xclone/img/classification/STP_G&T/scDNA</td></tr></table></td></tr></table></td></tr></table>"
      ],
      "text/plain": [
       "Task name: classification\n",
       "Experiment info:\n",
       "{\n",
       "    \"modality\": \"scDNA\",\n",
       "    \"sample\": \"STP_G&T\"\n",
       "}\n",
       "Config generated on 2019-11-05 16:38\n",
       "Contents:\n",
       "{\n",
       "    \"task_name\": \"classification\",\n",
       "    \"experiment_info\": {\n",
       "        \"modality\": \"scDNA\",\n",
       "        \"sample\": \"STP_G&T\"\n",
       "    },\n",
       "    \"cookiecutter_info\": {\n",
       "        \"ROOT\": \"/icgc/dkfzlsdf/analysis/B260/users/v390v/xclone\",\n",
       "        \"DATA\": \"/icgc/dkfzlsdf/analysis/B260/users/v390v/xclone/data\",\n",
       "        \"RAW\": \"/icgc/dkfzlsdf/analysis/B260/users/v390v/xclone/data/raw\",\n",
       "        \"TMP\": \"/icgc/dkfzlsdf/analysis/B260/users/v390v/xclone/data/tmp\",\n",
       "        \"PROCESSED\": \"/icgc/dkfzlsdf/analysis/B260/users/v390v/xclone/data/processed\",\n",
       "        \"IMG\": \"/icgc/dkfzlsdf/analysis/B260/users/v390v/xclone/img\",\n",
       "        \"SRC\": \"/icgc/dkfzlsdf/analysis/B260/users/v390v/xclone/src\",\n",
       "        \"SCRIPTS\": \"/icgc/dkfzlsdf/analysis/B260/users/v390v/xclone/scripts\",\n",
       "        \"TESTS\": \"/icgc/dkfzlsdf/analysis/B260/users/v390v/xclone/tests\",\n",
       "        \"LIB\": \"/icgc/dkfzlsdf/analysis/B260/users/v390v/xclone/lib\",\n",
       "        \"NOTEBOOKS\": \"/icgc/dkfzlsdf/analysis/B260/users/v390v/xclone/notebooks\"\n",
       "    },\n",
       "    \"config_dir\": \"/icgc/dkfzlsdf/analysis/B260/users/v390v/xclone/notebooks/classification\",\n",
       "    \"data_dir\": {\n",
       "        \"root\": \"/icgc/dkfzlsdf/analysis/B260/users/v390v/xclone/data/processed\",\n",
       "        \"sample\": \"/icgc/dkfzlsdf/analysis/B260/users/v390v/xclone/data/processed/STP_G&T\",\n",
       "        \"modality\": \"/icgc/dkfzlsdf/analysis/B260/users/v390v/xclone/data/processed/STP_G&T/scDNA\"\n",
       "    },\n",
       "    \"data\": {\n",
       "        \"block_counts\": \"/icgc/dkfzlsdf/analysis/B260/users/v390v/xclone/data/processed/STP_G&T/scDNA/block_counts.pkl\",\n",
       "        \"clustering\": \"/icgc/dkfzlsdf/analysis/B260/users/v390v/xclone/data/processed/STP_G&T/scDNA/evo_dist_9_eb_clustering.pkl\"\n",
       "    },\n",
       "    \"tmp_data_dir\": {\n",
       "        \"root\": \"/icgc/dkfzlsdf/analysis/B260/users/v390v/xclone/data/tmp/classification\",\n",
       "        \"sample\": \"/icgc/dkfzlsdf/analysis/B260/users/v390v/xclone/data/tmp/classification/STP_G&T\",\n",
       "        \"modality\": \"/icgc/dkfzlsdf/analysis/B260/users/v390v/xclone/data/tmp/classification/STP_G&T/scDNA\"\n",
       "    },\n",
       "    \"tmp_data\": {\n",
       "        \"block_counts\": \"/icgc/dkfzlsdf/analysis/B260/users/v390v/xclone/data/tmp/classification/STP_G&T/scDNA/block_counts.pkl\",\n",
       "        \"clustering\": \"/icgc/dkfzlsdf/analysis/B260/users/v390v/xclone/data/tmp/classification/STP_G&T/scDNA/clustering.pkl\"\n",
       "    },\n",
       "    \"img_dir\": {\n",
       "        \"root\": \"/icgc/dkfzlsdf/analysis/B260/users/v390v/xclone/img/classification\",\n",
       "        \"sample\": \"/icgc/dkfzlsdf/analysis/B260/users/v390v/xclone/img/classification/STP_G&T\",\n",
       "        \"modality\": \"/icgc/dkfzlsdf/analysis/B260/users/v390v/xclone/img/classification/STP_G&T/scDNA\"\n",
       "    }\n",
       "}"
      ]
     },
     "execution_count": 9,
     "metadata": {},
     "output_type": "execute_result"
    }
   ],
   "source": [
    "workspace[\"scDNA\"]"
   ]
  },
  {
   "cell_type": "code",
   "execution_count": 10,
   "metadata": {},
   "outputs": [
    {
     "data": {
      "text/html": [
       "<table><tr><th>Task name: </th><td>classification</td></tr></table><table><tr><th>Experiment info: </th><td><table><tr><th>modality</th><td>scRNA</td></tr><tr><th>sample</th><td>STP_G&T</td></tr></table></td></tr></table><table><tr><th>Datasets: </th><td><ul><li>block_counts</li></ul></td></tr></table><table><tr><th>Created on </th><td>2019-11-05 16:38</td></tr></table><table><tr><th>Contents: </th><td><table><tr><th>task_name</th><td>classification</td></tr><tr><th>experiment_info</th><td><table><tr><th>modality</th><td>scRNA</td></tr><tr><th>sample</th><td>STP_G&T</td></tr></table></td></tr><tr><th>cookiecutter_info</th><td><table><tr><th>ROOT</th><td>/icgc/dkfzlsdf/analysis/B260/users/v390v/xclone</td></tr><tr><th>DATA</th><td>/icgc/dkfzlsdf/analysis/B260/users/v390v/xclone/data</td></tr><tr><th>RAW</th><td>/icgc/dkfzlsdf/analysis/B260/users/v390v/xclone/data/raw</td></tr><tr><th>TMP</th><td>/icgc/dkfzlsdf/analysis/B260/users/v390v/xclone/data/tmp</td></tr><tr><th>PROCESSED</th><td>/icgc/dkfzlsdf/analysis/B260/users/v390v/xclone/data/processed</td></tr><tr><th>IMG</th><td>/icgc/dkfzlsdf/analysis/B260/users/v390v/xclone/img</td></tr><tr><th>SRC</th><td>/icgc/dkfzlsdf/analysis/B260/users/v390v/xclone/src</td></tr><tr><th>SCRIPTS</th><td>/icgc/dkfzlsdf/analysis/B260/users/v390v/xclone/scripts</td></tr><tr><th>TESTS</th><td>/icgc/dkfzlsdf/analysis/B260/users/v390v/xclone/tests</td></tr><tr><th>LIB</th><td>/icgc/dkfzlsdf/analysis/B260/users/v390v/xclone/lib</td></tr><tr><th>NOTEBOOKS</th><td>/icgc/dkfzlsdf/analysis/B260/users/v390v/xclone/notebooks</td></tr></table></td></tr><tr><th>config_dir</th><td>/icgc/dkfzlsdf/analysis/B260/users/v390v/xclone/notebooks/classification</td></tr><tr><th>data_dir</th><td><table><tr><th>root</th><td>/icgc/dkfzlsdf/analysis/B260/users/v390v/xclone/data/processed</td></tr><tr><th>sample</th><td>/icgc/dkfzlsdf/analysis/B260/users/v390v/xclone/data/processed/STP_G&T</td></tr><tr><th>modality</th><td>/icgc/dkfzlsdf/analysis/B260/users/v390v/xclone/data/processed/STP_G&T/scRNA</td></tr></table></td></tr><tr><th>data</th><td><table><tr><th>block_counts</th><td>/icgc/dkfzlsdf/analysis/B260/users/v390v/xclone/data/processed/STP_G&T/scRNA/block_counts.pkl</td></tr></table></td></tr><tr><th>tmp_data_dir</th><td><table><tr><th>root</th><td>/icgc/dkfzlsdf/analysis/B260/users/v390v/xclone/data/tmp/classification</td></tr><tr><th>sample</th><td>/icgc/dkfzlsdf/analysis/B260/users/v390v/xclone/data/tmp/classification/STP_G&T</td></tr><tr><th>modality</th><td>/icgc/dkfzlsdf/analysis/B260/users/v390v/xclone/data/tmp/classification/STP_G&T/scRNA</td></tr></table></td></tr><tr><th>tmp_data</th><td><table><tr><th>block_counts</th><td>/icgc/dkfzlsdf/analysis/B260/users/v390v/xclone/data/tmp/classification/STP_G&T/scRNA/block_counts.pkl</td></tr></table></td></tr><tr><th>img_dir</th><td><table><tr><th>root</th><td>/icgc/dkfzlsdf/analysis/B260/users/v390v/xclone/img/classification</td></tr><tr><th>sample</th><td>/icgc/dkfzlsdf/analysis/B260/users/v390v/xclone/img/classification/STP_G&T</td></tr><tr><th>modality</th><td>/icgc/dkfzlsdf/analysis/B260/users/v390v/xclone/img/classification/STP_G&T/scRNA</td></tr></table></td></tr></table></td></tr></table>"
      ],
      "text/plain": [
       "Task name: classification\n",
       "Experiment info:\n",
       "{\n",
       "    \"modality\": \"scRNA\",\n",
       "    \"sample\": \"STP_G&T\"\n",
       "}\n",
       "Config generated on 2019-11-05 16:38\n",
       "Contents:\n",
       "{\n",
       "    \"task_name\": \"classification\",\n",
       "    \"experiment_info\": {\n",
       "        \"modality\": \"scRNA\",\n",
       "        \"sample\": \"STP_G&T\"\n",
       "    },\n",
       "    \"cookiecutter_info\": {\n",
       "        \"ROOT\": \"/icgc/dkfzlsdf/analysis/B260/users/v390v/xclone\",\n",
       "        \"DATA\": \"/icgc/dkfzlsdf/analysis/B260/users/v390v/xclone/data\",\n",
       "        \"RAW\": \"/icgc/dkfzlsdf/analysis/B260/users/v390v/xclone/data/raw\",\n",
       "        \"TMP\": \"/icgc/dkfzlsdf/analysis/B260/users/v390v/xclone/data/tmp\",\n",
       "        \"PROCESSED\": \"/icgc/dkfzlsdf/analysis/B260/users/v390v/xclone/data/processed\",\n",
       "        \"IMG\": \"/icgc/dkfzlsdf/analysis/B260/users/v390v/xclone/img\",\n",
       "        \"SRC\": \"/icgc/dkfzlsdf/analysis/B260/users/v390v/xclone/src\",\n",
       "        \"SCRIPTS\": \"/icgc/dkfzlsdf/analysis/B260/users/v390v/xclone/scripts\",\n",
       "        \"TESTS\": \"/icgc/dkfzlsdf/analysis/B260/users/v390v/xclone/tests\",\n",
       "        \"LIB\": \"/icgc/dkfzlsdf/analysis/B260/users/v390v/xclone/lib\",\n",
       "        \"NOTEBOOKS\": \"/icgc/dkfzlsdf/analysis/B260/users/v390v/xclone/notebooks\"\n",
       "    },\n",
       "    \"config_dir\": \"/icgc/dkfzlsdf/analysis/B260/users/v390v/xclone/notebooks/classification\",\n",
       "    \"data_dir\": {\n",
       "        \"root\": \"/icgc/dkfzlsdf/analysis/B260/users/v390v/xclone/data/processed\",\n",
       "        \"sample\": \"/icgc/dkfzlsdf/analysis/B260/users/v390v/xclone/data/processed/STP_G&T\",\n",
       "        \"modality\": \"/icgc/dkfzlsdf/analysis/B260/users/v390v/xclone/data/processed/STP_G&T/scRNA\"\n",
       "    },\n",
       "    \"data\": {\n",
       "        \"block_counts\": \"/icgc/dkfzlsdf/analysis/B260/users/v390v/xclone/data/processed/STP_G&T/scRNA/block_counts.pkl\"\n",
       "    },\n",
       "    \"tmp_data_dir\": {\n",
       "        \"root\": \"/icgc/dkfzlsdf/analysis/B260/users/v390v/xclone/data/tmp/classification\",\n",
       "        \"sample\": \"/icgc/dkfzlsdf/analysis/B260/users/v390v/xclone/data/tmp/classification/STP_G&T\",\n",
       "        \"modality\": \"/icgc/dkfzlsdf/analysis/B260/users/v390v/xclone/data/tmp/classification/STP_G&T/scRNA\"\n",
       "    },\n",
       "    \"tmp_data\": {\n",
       "        \"block_counts\": \"/icgc/dkfzlsdf/analysis/B260/users/v390v/xclone/data/tmp/classification/STP_G&T/scRNA/block_counts.pkl\"\n",
       "    },\n",
       "    \"img_dir\": {\n",
       "        \"root\": \"/icgc/dkfzlsdf/analysis/B260/users/v390v/xclone/img/classification\",\n",
       "        \"sample\": \"/icgc/dkfzlsdf/analysis/B260/users/v390v/xclone/img/classification/STP_G&T\",\n",
       "        \"modality\": \"/icgc/dkfzlsdf/analysis/B260/users/v390v/xclone/img/classification/STP_G&T/scRNA\"\n",
       "    }\n",
       "}"
      ]
     },
     "execution_count": 10,
     "metadata": {},
     "output_type": "execute_result"
    }
   ],
   "source": [
    "workspace[\"scRNA\"]"
   ]
  },
  {
   "cell_type": "code",
   "execution_count": null,
   "metadata": {},
   "outputs": [],
   "source": []
  }
 ],
 "metadata": {
  "kernelspec": {
   "display_name": "Python [conda env:.conda-xclone] *",
   "language": "python",
   "name": "conda-env-.conda-xclone-py"
  },
  "language_info": {
   "codemirror_mode": {
    "name": "ipython",
    "version": 3
   },
   "file_extension": ".py",
   "mimetype": "text/x-python",
   "name": "python",
   "nbconvert_exporter": "python",
   "pygments_lexer": "ipython3",
   "version": "3.7.3"
  }
 },
 "nbformat": 4,
 "nbformat_minor": 2
}
