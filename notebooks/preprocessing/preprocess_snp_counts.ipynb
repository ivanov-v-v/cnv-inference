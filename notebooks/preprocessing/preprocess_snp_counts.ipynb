{
 "cells": [
  {
   "cell_type": "code",
   "execution_count": 1,
   "metadata": {
    "ExecuteTime": {
     "end_time": "2019-07-24T13:21:20.804458Z",
     "start_time": "2019-07-24T13:21:11.742301Z"
    }
   },
   "outputs": [],
   "source": [
    "%load_ext autoreload\n",
    "%autoreload 2\n",
    "\n",
    "import os\n",
    "import subprocess\n",
    "import sys\n",
    "import warnings\n",
    "\n",
    "warnings.simplefilter(\"ignore\", FutureWarning)\n",
    "\n",
    "import xclone_config\n",
    "project_config = xclone_config\n",
    "os.chdir(project_config.ROOT)\n",
    "\n",
    "from collections import defaultdict, OrderedDict\n",
    "import multiprocessing as mp\n",
    "import sys\n",
    "\n",
    "import numpy as np\n",
    "import pandas as pd\n",
    "from tqdm import tqdm, tqdm_notebook\n",
    "\n",
    "import matplotlib.pyplot as plt\n",
    "import seaborn as sns\n",
    "\n",
    "from data_types import ase\n",
    "import plotlib\n",
    "import toolkit\n",
    "import util\n",
    "import test_phasing\n",
    "from workspace.workspace_manager import WorkspaceManager\n",
    "\n",
    "workspace = WorkspaceManager(\n",
    "    task_name=\"preprocessing\",\n",
    "    experiment_info={\"sample\" : \"N5CC3E\", \n",
    "                     \"modality\" : \"scATAC\"},\n",
    "    verbose=True\n",
    ")\n",
    "workspace.load_workspace()\n",
    "\n",
    "sns.set()"
   ]
  },
  {
   "cell_type": "markdown",
   "metadata": {},
   "source": [
    "## Loading data"
   ]
  },
  {
   "cell_type": "code",
   "execution_count": 2,
   "metadata": {},
   "outputs": [
    {
     "data": {
      "application/vnd.jupyter.widget-view+json": {
       "model_id": "da37bfbb45004427b1912a09679bb3f7",
       "version_major": 2,
       "version_minor": 0
      },
      "text/plain": [
       "HBox(children=(IntProgress(value=0, description='loading datasets into RAM', max=3, style=ProgressStyle(descri…"
      ]
     },
     "metadata": {},
     "output_type": "display_data"
    },
    {
     "name": "stdout",
     "output_type": "stream",
     "text": [
      "\n"
     ]
    }
   ],
   "source": [
    "requirements = [\"raw_snp_counts\", \"phasing\", \"blocks\"]\n",
    "\n",
    "data = {\n",
    "    dtype : \n",
    "    util.pickle_load(workspace.tmp_data[dtype])\n",
    "    for dtype in tqdm_notebook(\n",
    "        requirements,\n",
    "        \"loading datasets into RAM\"\n",
    "    )\n",
    "}"
   ]
  },
  {
   "cell_type": "markdown",
   "metadata": {},
   "source": [
    "Let's ensure that \"X\" and \"y\" chromosomes are dropped out.  \n",
    "They are of no interest when it comes to allelic rates."
   ]
  },
  {
   "cell_type": "code",
   "execution_count": 3,
   "metadata": {},
   "outputs": [
    {
     "data": {
      "application/vnd.jupyter.widget-view+json": {
       "model_id": "5e5525f4a3924456a3c38fcd390bc356",
       "version_major": 2,
       "version_minor": 0
      },
      "text/plain": [
       "HBox(children=(IntProgress(value=0, max=14334), HTML(value='')))"
      ]
     },
     "metadata": {},
     "output_type": "display_data"
    },
    {
     "name": "stdout",
     "output_type": "stream",
     "text": [
      "\n"
     ]
    },
    {
     "data": {
      "text/html": [
       "<div>\n",
       "<style scoped>\n",
       "    .dataframe tbody tr th:only-of-type {\n",
       "        vertical-align: middle;\n",
       "    }\n",
       "\n",
       "    .dataframe tbody tr th {\n",
       "        vertical-align: top;\n",
       "    }\n",
       "\n",
       "    .dataframe thead th {\n",
       "        text-align: right;\n",
       "    }\n",
       "</style>\n",
       "<table border=\"1\" class=\"dataframe\">\n",
       "  <thead>\n",
       "    <tr style=\"text-align: right;\">\n",
       "      <th></th>\n",
       "      <th>CHROM</th>\n",
       "      <th>POS</th>\n",
       "      <th>AAACGAAAGGGAGATA-1_ad</th>\n",
       "      <th>AAACGAAAGGGAGATA-1_dp</th>\n",
       "      <th>AAACGAAAGTCGATAA-1_ad</th>\n",
       "      <th>AAACGAAAGTCGATAA-1_dp</th>\n",
       "      <th>AAACGAACAAACCCTA-1_ad</th>\n",
       "      <th>AAACGAACAAACCCTA-1_dp</th>\n",
       "      <th>AAACGAACAACGCACC-1_ad</th>\n",
       "      <th>AAACGAACAACGCACC-1_dp</th>\n",
       "      <th>...</th>\n",
       "      <th>TTTGTGTGTTTGATCG-1_ad</th>\n",
       "      <th>TTTGTGTGTTTGATCG-1_dp</th>\n",
       "      <th>TTTGTGTTCCTATCAT-1_ad</th>\n",
       "      <th>TTTGTGTTCCTATCAT-1_dp</th>\n",
       "      <th>TTTGTGTTCCTCATTA-1_ad</th>\n",
       "      <th>TTTGTGTTCCTCATTA-1_dp</th>\n",
       "      <th>TTTGTGTTCGCTAGTA-1_ad</th>\n",
       "      <th>TTTGTGTTCGCTAGTA-1_dp</th>\n",
       "      <th>TTTGTGTTCTTAATCC-1_ad</th>\n",
       "      <th>TTTGTGTTCTTAATCC-1_dp</th>\n",
       "    </tr>\n",
       "  </thead>\n",
       "  <tbody>\n",
       "    <tr>\n",
       "      <th>0</th>\n",
       "      <td>1.0</td>\n",
       "      <td>864490.0</td>\n",
       "      <td>NaN</td>\n",
       "      <td>NaN</td>\n",
       "      <td>NaN</td>\n",
       "      <td>NaN</td>\n",
       "      <td>NaN</td>\n",
       "      <td>NaN</td>\n",
       "      <td>NaN</td>\n",
       "      <td>NaN</td>\n",
       "      <td>...</td>\n",
       "      <td>NaN</td>\n",
       "      <td>NaN</td>\n",
       "      <td>NaN</td>\n",
       "      <td>NaN</td>\n",
       "      <td>NaN</td>\n",
       "      <td>NaN</td>\n",
       "      <td>NaN</td>\n",
       "      <td>NaN</td>\n",
       "      <td>NaN</td>\n",
       "      <td>NaN</td>\n",
       "    </tr>\n",
       "    <tr>\n",
       "      <th>1</th>\n",
       "      <td>1.0</td>\n",
       "      <td>906272.0</td>\n",
       "      <td>NaN</td>\n",
       "      <td>NaN</td>\n",
       "      <td>NaN</td>\n",
       "      <td>NaN</td>\n",
       "      <td>NaN</td>\n",
       "      <td>NaN</td>\n",
       "      <td>NaN</td>\n",
       "      <td>NaN</td>\n",
       "      <td>...</td>\n",
       "      <td>NaN</td>\n",
       "      <td>NaN</td>\n",
       "      <td>NaN</td>\n",
       "      <td>NaN</td>\n",
       "      <td>NaN</td>\n",
       "      <td>NaN</td>\n",
       "      <td>NaN</td>\n",
       "      <td>NaN</td>\n",
       "      <td>NaN</td>\n",
       "      <td>NaN</td>\n",
       "    </tr>\n",
       "    <tr>\n",
       "      <th>2</th>\n",
       "      <td>1.0</td>\n",
       "      <td>907609.0</td>\n",
       "      <td>NaN</td>\n",
       "      <td>NaN</td>\n",
       "      <td>NaN</td>\n",
       "      <td>NaN</td>\n",
       "      <td>NaN</td>\n",
       "      <td>NaN</td>\n",
       "      <td>NaN</td>\n",
       "      <td>NaN</td>\n",
       "      <td>...</td>\n",
       "      <td>NaN</td>\n",
       "      <td>NaN</td>\n",
       "      <td>NaN</td>\n",
       "      <td>NaN</td>\n",
       "      <td>NaN</td>\n",
       "      <td>NaN</td>\n",
       "      <td>NaN</td>\n",
       "      <td>NaN</td>\n",
       "      <td>NaN</td>\n",
       "      <td>NaN</td>\n",
       "    </tr>\n",
       "    <tr>\n",
       "      <th>3</th>\n",
       "      <td>1.0</td>\n",
       "      <td>908170.0</td>\n",
       "      <td>NaN</td>\n",
       "      <td>NaN</td>\n",
       "      <td>NaN</td>\n",
       "      <td>NaN</td>\n",
       "      <td>NaN</td>\n",
       "      <td>NaN</td>\n",
       "      <td>NaN</td>\n",
       "      <td>NaN</td>\n",
       "      <td>...</td>\n",
       "      <td>NaN</td>\n",
       "      <td>NaN</td>\n",
       "      <td>NaN</td>\n",
       "      <td>NaN</td>\n",
       "      <td>NaN</td>\n",
       "      <td>NaN</td>\n",
       "      <td>NaN</td>\n",
       "      <td>NaN</td>\n",
       "      <td>NaN</td>\n",
       "      <td>NaN</td>\n",
       "    </tr>\n",
       "    <tr>\n",
       "      <th>4</th>\n",
       "      <td>1.0</td>\n",
       "      <td>908414.0</td>\n",
       "      <td>NaN</td>\n",
       "      <td>NaN</td>\n",
       "      <td>NaN</td>\n",
       "      <td>NaN</td>\n",
       "      <td>NaN</td>\n",
       "      <td>NaN</td>\n",
       "      <td>NaN</td>\n",
       "      <td>NaN</td>\n",
       "      <td>...</td>\n",
       "      <td>NaN</td>\n",
       "      <td>NaN</td>\n",
       "      <td>NaN</td>\n",
       "      <td>NaN</td>\n",
       "      <td>NaN</td>\n",
       "      <td>NaN</td>\n",
       "      <td>NaN</td>\n",
       "      <td>NaN</td>\n",
       "      <td>NaN</td>\n",
       "      <td>NaN</td>\n",
       "    </tr>\n",
       "  </tbody>\n",
       "</table>\n",
       "<p>5 rows × 14334 columns</p>\n",
       "</div>"
      ],
      "text/plain": [
       "   CHROM       POS  AAACGAAAGGGAGATA-1_ad  AAACGAAAGGGAGATA-1_dp  \\\n",
       "0    1.0  864490.0                    NaN                    NaN   \n",
       "1    1.0  906272.0                    NaN                    NaN   \n",
       "2    1.0  907609.0                    NaN                    NaN   \n",
       "3    1.0  908170.0                    NaN                    NaN   \n",
       "4    1.0  908414.0                    NaN                    NaN   \n",
       "\n",
       "   AAACGAAAGTCGATAA-1_ad  AAACGAAAGTCGATAA-1_dp  AAACGAACAAACCCTA-1_ad  \\\n",
       "0                    NaN                    NaN                    NaN   \n",
       "1                    NaN                    NaN                    NaN   \n",
       "2                    NaN                    NaN                    NaN   \n",
       "3                    NaN                    NaN                    NaN   \n",
       "4                    NaN                    NaN                    NaN   \n",
       "\n",
       "   AAACGAACAAACCCTA-1_dp  AAACGAACAACGCACC-1_ad  AAACGAACAACGCACC-1_dp  ...  \\\n",
       "0                    NaN                    NaN                    NaN  ...   \n",
       "1                    NaN                    NaN                    NaN  ...   \n",
       "2                    NaN                    NaN                    NaN  ...   \n",
       "3                    NaN                    NaN                    NaN  ...   \n",
       "4                    NaN                    NaN                    NaN  ...   \n",
       "\n",
       "   TTTGTGTGTTTGATCG-1_ad  TTTGTGTGTTTGATCG-1_dp  TTTGTGTTCCTATCAT-1_ad  \\\n",
       "0                    NaN                    NaN                    NaN   \n",
       "1                    NaN                    NaN                    NaN   \n",
       "2                    NaN                    NaN                    NaN   \n",
       "3                    NaN                    NaN                    NaN   \n",
       "4                    NaN                    NaN                    NaN   \n",
       "\n",
       "   TTTGTGTTCCTATCAT-1_dp  TTTGTGTTCCTCATTA-1_ad  TTTGTGTTCCTCATTA-1_dp  \\\n",
       "0                    NaN                    NaN                    NaN   \n",
       "1                    NaN                    NaN                    NaN   \n",
       "2                    NaN                    NaN                    NaN   \n",
       "3                    NaN                    NaN                    NaN   \n",
       "4                    NaN                    NaN                    NaN   \n",
       "\n",
       "   TTTGTGTTCGCTAGTA-1_ad  TTTGTGTTCGCTAGTA-1_dp  TTTGTGTTCTTAATCC-1_ad  \\\n",
       "0                    NaN                    NaN                    NaN   \n",
       "1                    NaN                    NaN                    NaN   \n",
       "2                    NaN                    NaN                    NaN   \n",
       "3                    NaN                    NaN                    NaN   \n",
       "4                    NaN                    NaN                    NaN   \n",
       "\n",
       "   TTTGTGTTCTTAATCC-1_dp  \n",
       "0                    NaN  \n",
       "1                    NaN  \n",
       "2                    NaN  \n",
       "3                    NaN  \n",
       "4                    NaN  \n",
       "\n",
       "[5 rows x 14334 columns]"
      ]
     },
     "execution_count": 3,
     "metadata": {},
     "output_type": "execute_result"
    }
   ],
   "source": [
    "chrom = data[\"raw_snp_counts\"][\"CHROM\"].to_dense()\n",
    "preserve_mask = ((chrom != 'X') & (chrom != 'y'))\n",
    "filtered_counts = []\n",
    "for colname in tqdm_notebook(data[\"raw_snp_counts\"].columns):\n",
    "    dense_col = data[\"raw_snp_counts\"][colname].to_dense()\n",
    "    filtered_counts.append(\n",
    "        dense_col[preserve_mask]\\\n",
    "        .astype(np.float64)\\\n",
    "        .reset_index(drop=True)\\\n",
    "        .to_sparse(fill_value=np.nan)\n",
    "    )\n",
    "filtered_counts_df = pd.concat(filtered_counts, axis=1)\n",
    "filtered_counts_df.head()"
   ]
  },
  {
   "cell_type": "code",
   "execution_count": 4,
   "metadata": {},
   "outputs": [],
   "source": [
    "data[\"raw_snp_counts\"] = filtered_counts_df"
   ]
  },
  {
   "cell_type": "code",
   "execution_count": 5,
   "metadata": {},
   "outputs": [],
   "source": [
    "data[\"phasing\"] = data[\"phasing\"][\n",
    "    ~np.isin(data[\"phasing\"].CHROM, [\"X\", \"y\"])\n",
    "].reset_index(drop=True)"
   ]
  },
  {
   "cell_type": "code",
   "execution_count": 6,
   "metadata": {},
   "outputs": [],
   "source": [
    "data[\"blocks\"] = data[\"blocks\"][\n",
    "    ~np.isin(data[\"blocks\"].CHROM, [\"X\", \"y\"])\n",
    "].reset_index(drop=True)"
   ]
  },
  {
   "cell_type": "markdown",
   "metadata": {},
   "source": [
    "## Ensuring that alternative allele is maternal (0|1 in raw phasing results)"
   ]
  },
  {
   "cell_type": "code",
   "execution_count": 7,
   "metadata": {
    "code_folding": []
   },
   "outputs": [],
   "source": [
    "def load_counts(raw_snp_counts_df, phasing_df):\n",
    "\n",
    "    counts_df = raw_snp_counts_df.copy()\n",
    "    counts_df[\"PHASE\"] = phasing_df.PHASE\n",
    "    male_alt = counts_df.PHASE == 1\n",
    "    \n",
    "    print(\"Ensuring that non-phased SNPs were filtered out\")\n",
    "    assert np.all(np.isin(toolkit.extract_snps(counts_df), \n",
    "                  toolkit.extract_snps(phasing_df)))\n",
    "\n",
    "    for barcode in tqdm_notebook(toolkit.extract_barcodes(counts_df), \n",
    "                                 desc=f\"cell_barcode\"):\n",
    "        ad = counts_df[f\"{barcode}_ad\"].to_dense()\n",
    "        dp = counts_df[f\"{barcode}_dp\"].to_dense()\n",
    "        ad[male_alt] = dp[male_alt].sub(ad[male_alt], fill_value=0)\n",
    "        counts_df[f\"{barcode}_ad\"] = ad.to_sparse()\n",
    "\n",
    "    new_nan_stats = util.nan_fraction(counts_df.drop(columns=[\"PHASE\"]))\n",
    "    old_nan_stats = util.nan_fraction(raw_snp_counts_df)\n",
    "\n",
    "    assert old_nan_stats == new_nan_stats\n",
    "\n",
    "    print(\"{:.2f}% of non-missing read counts\".format(\n",
    "        100 * np.mean(~counts_df.iloc[:, 2:].isna().values.astype(bool))\n",
    "    ))\n",
    "    return counts_df"
   ]
  },
  {
   "cell_type": "code",
   "execution_count": null,
   "metadata": {},
   "outputs": [
    {
     "name": "stdout",
     "output_type": "stream",
     "text": [
      "Ensuring that non-phased SNPs were filtered out\n"
     ]
    },
    {
     "data": {
      "application/vnd.jupyter.widget-view+json": {
       "model_id": "41f43497b4a34ee08ef771758fe5ed1a",
       "version_major": 2,
       "version_minor": 0
      },
      "text/plain": [
       "HBox(children=(IntProgress(value=0, description='extracting snps...', max=1156695, style=ProgressStyle(descrip…"
      ]
     },
     "metadata": {},
     "output_type": "display_data"
    },
    {
     "name": "stdout",
     "output_type": "stream",
     "text": [
      "\n"
     ]
    },
    {
     "data": {
      "application/vnd.jupyter.widget-view+json": {
       "model_id": "e43f0d46a70449dbb3c9db8c2f0ee31a",
       "version_major": 2,
       "version_minor": 0
      },
      "text/plain": [
       "HBox(children=(IntProgress(value=0, description='extracting snps...', max=1916433, style=ProgressStyle(descrip…"
      ]
     },
     "metadata": {},
     "output_type": "display_data"
    },
    {
     "name": "stdout",
     "output_type": "stream",
     "text": [
      "\n"
     ]
    },
    {
     "data": {
      "application/vnd.jupyter.widget-view+json": {
       "model_id": "1328726ea36047ec95408e12c8f93815",
       "version_major": 2,
       "version_minor": 0
      },
      "text/plain": [
       "HBox(children=(IntProgress(value=0, description='cell_barcode', max=7166, style=ProgressStyle(description_widt…"
      ]
     },
     "metadata": {},
     "output_type": "display_data"
    }
   ],
   "source": [
    "%%time\n",
    "warnings.simplefilter(\"ignore\", pd.core.common.SettingWithCopyWarning)\n",
    "data[\"snp_counts\"] = load_counts(data[\"raw_snp_counts\"], data[\"phasing\"])\n",
    "data[\"snp_counts\"].head()"
   ]
  },
  {
   "cell_type": "code",
   "execution_count": null,
   "metadata": {},
   "outputs": [],
   "source": [
    "util.pickle_dump(\n",
    "    data[\"snp_counts\"],\n",
    "    os.path.join(\n",
    "        workspace.tmp_dir,\n",
    "        \"snp_counts_T1.pkl\"\n",
    "    )\n",
    ")\n",
    "util.pickle_dump(\n",
    "    data[\"raw_snp_counts\"],\n",
    "    os.path.join(\n",
    "        workspace.tmp_dir,\n",
    "        \"raw_snp_counts_T1.pkl\"\n",
    "    )\n",
    ")\n",
    "# util.pickle_dump(\n",
    "#     data[\"phasing\"],\n",
    "#     os.path.join(\n",
    "#         workspace.tmp_dir,\n",
    "#         \"phasing.pkl\"\n",
    "#     )\n",
    "# )\n",
    "# util.pickle_dump(\n",
    "#     data[\"blocks\"],\n",
    "#     os.path.join(\n",
    "#         workspace.tmp_dir,\n",
    "#         \"blocks.pkl\"\n",
    "#     )\n",
    "# )\n",
    "workspace.add_entry(\"raw_snp_counts_T1\", \"raw_snp_counts_T1.pkl\")\n",
    "workspace.add_entry(\"snp_counts_T1\", \"snp_counts_T1.pkl\")\n",
    "# workspace.add_entry(\"phasing\", \"phasing.pkl\")\n",
    "# workspace.add_entry(\"blocks\", \"haplotype_blocks.pkl\")\n",
    "workspace.verify()\n",
    "workspace.push()"
   ]
  }
 ],
 "metadata": {
  "kernelspec": {
   "display_name": "Python 3",
   "language": "python",
   "name": "python3"
  },
  "language_info": {
   "codemirror_mode": {
    "name": "ipython",
    "version": 3
   },
   "file_extension": ".py",
   "mimetype": "text/x-python",
   "name": "python",
   "nbconvert_exporter": "python",
   "pygments_lexer": "ipython3",
   "version": "3.7.3"
  },
  "toc": {
   "base_numbering": 1,
   "nav_menu": {},
   "number_sections": true,
   "sideBar": true,
   "skip_h1_title": false,
   "title_cell": "Table of Contents",
   "title_sidebar": "Contents",
   "toc_cell": false,
   "toc_position": {},
   "toc_section_display": true,
   "toc_window_display": false
  },
  "varInspector": {
   "cols": {
    "lenName": 16,
    "lenType": 16,
    "lenVar": 40
   },
   "kernels_config": {
    "python": {
     "delete_cmd_postfix": "",
     "delete_cmd_prefix": "del ",
     "library": "var_list.py",
     "varRefreshCmd": "print(var_dic_list())"
    },
    "r": {
     "delete_cmd_postfix": ") ",
     "delete_cmd_prefix": "rm(",
     "library": "var_list.r",
     "varRefreshCmd": "cat(var_dic_list()) "
    }
   },
   "types_to_exclude": [
    "module",
    "function",
    "builtin_function_or_method",
    "instance",
    "_Feature"
   ],
   "window_display": false
  }
 },
 "nbformat": 4,
 "nbformat_minor": 2
}
