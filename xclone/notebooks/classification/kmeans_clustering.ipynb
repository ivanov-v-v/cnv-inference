{
 "cells": [
  {
   "cell_type": "code",
   "execution_count": null,
   "metadata": {},
   "outputs": [],
   "source": [
    "\"\"\" This should be in a separate notebook! \"\"\" \n",
    "# from sklearn.cluster import KMeans\n",
    "# kmeans_clf = KMeans(\n",
    "#     n_clusters=50, \n",
    "#     n_jobs=8, \n",
    "#     random_state=179\n",
    "# )\n",
    "# kmeans_clf.fit(clustering_info[\"scRNA\"][[\"TSNE_1\", \"TSNE_2\"]])\n",
    "# kmeans_clustering_df = pd.DataFrame(\n",
    "#     np.column_stack((\n",
    "#         toolkit.extract_barcodes(gene_counts_info[\"scRNA\"]),\n",
    "#         kmeans_clf.labels_\n",
    "#     )), \n",
    "#     columns=[\"BARCODE\", \"LABEL\"]\n",
    "# )\n"
   ]
  },
  {
   "cell_type": "code",
   "execution_count": null,
   "metadata": {},
   "outputs": [],
   "source": [
    "\"\"\" This should be in a separate notebook! \"\"\" \n",
    "# kmeans_clustering_df[[\"TSNE_1\", \"TSNE_2\"]] =\\\n",
    "#     clustering_info[\"scRNA\"][[\"TSNE_1\", \"TSNE_2\"]] \n",
    "\n",
    "# sns.set(font_scale=1.5, style=\"whitegrid\")\n",
    "# fig, ax = plt.subplots(1,1, figsize=(20,10))\n",
    "# sns.scatterplot(\n",
    "#     x=\"TSNE_1\",\n",
    "#     y=\"TSNE_2\",\n",
    "#     data=kmeans_clustering_df,\n",
    "#     hue=kmeans_clustering_df[\"LABEL\"].astype(int),\n",
    "#     palette=\"jet\",\n",
    "#     legend=\"full\",\n",
    "#     ax=ax\n",
    "# )\n",
    "# ax.grid(False)\n",
    "# ax.set_title(\n",
    "#     f\"scRNA, sample-1, {filtering_name}, \"\n",
    "#     \" (KMeans clustering, 50 clusters),\"\n",
    "#     f\" {gene_counts_info['scRNA'].shape[0]} genes\",\n",
    "#     fontsize=24\n",
    "# )\n",
    "# ax.set_xlabel(\"TSNE_1\", fontsize=20)\n",
    "# ax.set_ylabel(\"TSNE_2\", fontsize=20)\n",
    "# ax.legend().remove()\n",
    "# fig.savefig(f\"{root_img_dir}/{filtering_name}_kmeans_50.pdf\", format=\"pdf\", dpi=300)\n",
    "# # ax.legend(ncol=10).get_frame().set_facecolor(\"white\")\n",
    "# sns.set(font_scale=1)"
   ]
  }
 ],
 "metadata": {
  "kernelspec": {
   "display_name": "Python [conda env:.conda-mb] *",
   "language": "python",
   "name": "conda-env-.conda-mb-py"
  },
  "language_info": {
   "codemirror_mode": {
    "name": "ipython",
    "version": 3
   },
   "file_extension": ".py",
   "mimetype": "text/x-python",
   "name": "python",
   "nbconvert_exporter": "python",
   "pygments_lexer": "ipython3",
   "version": "3.7.3"
  }
 },
 "nbformat": 4,
 "nbformat_minor": 2
}
