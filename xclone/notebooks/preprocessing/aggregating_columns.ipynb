{
 "cells": [
  {
   "cell_type": "code",
   "execution_count": 4,
   "metadata": {},
   "outputs": [
    {
     "name": "stdout",
     "output_type": "stream",
     "text": [
      "The autoreload extension is already loaded. To reload it, use:\n",
      "  %reload_ext autoreload\n"
     ]
    }
   ],
   "source": [
    "%load_ext autoreload\n",
    "%autoreload 2\n",
    "\n",
    "import os\n",
    "import subprocess\n",
    "import sys\n",
    "import warnings\n",
    "\n",
    "warnings.simplefilter(\"ignore\", FutureWarning)\n",
    "\n",
    "import cnv_inference_config\n",
    "project_config = cnv_inference_config\n",
    "os.chdir(project_config.MB_ROOT)\n",
    "\n",
    "from collections import defaultdict, OrderedDict\n",
    "import multiprocessing as mp\n",
    "import sys\n",
    "\n",
    "import numpy as np\n",
    "import pandas as pd\n",
    "from tqdm import tqdm, tqdm_notebook\n",
    "\n",
    "import matplotlib.pyplot as plt\n",
    "import seaborn as sns\n",
    "\n",
    "from data_types import ase\n",
    "import plotlib\n",
    "import toolkit\n",
    "import util\n",
    "import test_phasing\n",
    "from workspace.workspace_manager import WorkspaceManager\n",
    "\n",
    "workspace = WorkspaceManager(\n",
    "    task_name=\"counts_to_ase\",\n",
    "    experiment_info={\"data\" : \"scDNA\"},\n",
    "    verbose=True\n",
    ")\n",
    "workspace.load_workspace()\n",
    "\n",
    "sns.set()"
   ]
  },
  {
   "cell_type": "code",
   "execution_count": 5,
   "metadata": {
    "scrolled": true
   },
   "outputs": [
    {
     "data": {
      "application/vnd.jupyter.widget-view+json": {
       "model_id": "5c1108369a6f4fc0b67125809956b5f2",
       "version_major": 2,
       "version_minor": 0
      },
      "text/plain": [
       "HBox(children=(IntProgress(value=0, description='loading datasets into RAM', max=1, style=ProgressStyle(descri…"
      ]
     },
     "metadata": {},
     "output_type": "display_data"
    },
    {
     "name": "stdout",
     "output_type": "stream",
     "text": [
      "\n",
      "Currently working on scDNA, STP_G&T\n"
     ]
    },
    {
     "data": {
      "text/html": [
       "<div>\n",
       "<style scoped>\n",
       "    .dataframe tbody tr th:only-of-type {\n",
       "        vertical-align: middle;\n",
       "    }\n",
       "\n",
       "    .dataframe tbody tr th {\n",
       "        vertical-align: top;\n",
       "    }\n",
       "\n",
       "    .dataframe thead th {\n",
       "        text-align: right;\n",
       "    }\n",
       "</style>\n",
       "<table border=\"1\" class=\"dataframe\">\n",
       "  <thead>\n",
       "    <tr style=\"text-align: right;\">\n",
       "      <th></th>\n",
       "      <th>CELL_ID</th>\n",
       "      <th>LABEL</th>\n",
       "      <th>BARCODE</th>\n",
       "    </tr>\n",
       "  </thead>\n",
       "  <tbody>\n",
       "    <tr>\n",
       "      <th>0</th>\n",
       "      <td>A10</td>\n",
       "      <td>5</td>\n",
       "      <td>1</td>\n",
       "    </tr>\n",
       "    <tr>\n",
       "      <th>1</th>\n",
       "      <td>A11</td>\n",
       "      <td>1</td>\n",
       "      <td>2</td>\n",
       "    </tr>\n",
       "    <tr>\n",
       "      <th>2</th>\n",
       "      <td>A12</td>\n",
       "      <td>1</td>\n",
       "      <td>3</td>\n",
       "    </tr>\n",
       "    <tr>\n",
       "      <th>3</th>\n",
       "      <td>A2</td>\n",
       "      <td>2</td>\n",
       "      <td>4</td>\n",
       "    </tr>\n",
       "    <tr>\n",
       "      <th>4</th>\n",
       "      <td>A3</td>\n",
       "      <td>5</td>\n",
       "      <td>5</td>\n",
       "    </tr>\n",
       "  </tbody>\n",
       "</table>\n",
       "</div>"
      ],
      "text/plain": [
       "  CELL_ID  LABEL BARCODE\n",
       "0     A10      5       1\n",
       "1     A11      1       2\n",
       "2     A12      1       3\n",
       "3      A2      2       4\n",
       "4      A3      5       5"
      ]
     },
     "execution_count": 5,
     "metadata": {},
     "output_type": "execute_result"
    }
   ],
   "source": [
    "clustering_name = 'evo_dist_9_eb'\n",
    "requirements = [\"block_counts\"]\n",
    "\n",
    "data = {\n",
    "    dtype : \n",
    "    util.pickle_load(workspace.tmp_data[dtype])\n",
    "    for dtype in tqdm_notebook(\n",
    "        requirements,\n",
    "        \"loading datasets into RAM\"\n",
    "    )\n",
    "}\n",
    "data_name = workspace.experiment_info['data']\n",
    "sample_name = workspace.experiment_info['sample']\n",
    "print(f\"Currently working on {data_name}, {sample_name}\")\n",
    "\n",
    "data[f\"{clustering_name}_clustering\"] = util.pickle_load(\n",
    "    f\"{workspace.dir}\"\n",
    "    f\"/{clustering_name}_clustering.pkl\"\n",
    ")\n",
    "data[f\"{clustering_name}_clustering\"].head()"
   ]
  },
  {
   "cell_type": "code",
   "execution_count": 6,
   "metadata": {},
   "outputs": [
    {
     "data": {
      "text/html": [
       "<div>\n",
       "<style scoped>\n",
       "    .dataframe tbody tr th:only-of-type {\n",
       "        vertical-align: middle;\n",
       "    }\n",
       "\n",
       "    .dataframe tbody tr th {\n",
       "        vertical-align: top;\n",
       "    }\n",
       "\n",
       "    .dataframe thead th {\n",
       "        text-align: right;\n",
       "    }\n",
       "</style>\n",
       "<table border=\"1\" class=\"dataframe\">\n",
       "  <thead>\n",
       "    <tr style=\"text-align: right;\">\n",
       "      <th></th>\n",
       "      <th>1_ad</th>\n",
       "      <th>1_dp</th>\n",
       "      <th>2_ad</th>\n",
       "      <th>2_dp</th>\n",
       "      <th>3_ad</th>\n",
       "      <th>3_dp</th>\n",
       "      <th>4_ad</th>\n",
       "      <th>4_dp</th>\n",
       "      <th>5_ad</th>\n",
       "      <th>5_dp</th>\n",
       "      <th>6_ad</th>\n",
       "      <th>6_dp</th>\n",
       "      <th>7_ad</th>\n",
       "      <th>7_dp</th>\n",
       "      <th>8_ad</th>\n",
       "      <th>8_dp</th>\n",
       "      <th>9_ad</th>\n",
       "      <th>9_dp</th>\n",
       "    </tr>\n",
       "  </thead>\n",
       "  <tbody>\n",
       "    <tr>\n",
       "      <th>0</th>\n",
       "      <td>814.0</td>\n",
       "      <td>1541.0</td>\n",
       "      <td>596.0</td>\n",
       "      <td>1211.0</td>\n",
       "      <td>304.0</td>\n",
       "      <td>665.0</td>\n",
       "      <td>286.0</td>\n",
       "      <td>569.0</td>\n",
       "      <td>427.0</td>\n",
       "      <td>880.0</td>\n",
       "      <td>351.0</td>\n",
       "      <td>683.0</td>\n",
       "      <td>63.0</td>\n",
       "      <td>194.0</td>\n",
       "      <td>384.0</td>\n",
       "      <td>726.0</td>\n",
       "      <td>234.0</td>\n",
       "      <td>434.0</td>\n",
       "    </tr>\n",
       "    <tr>\n",
       "      <th>1</th>\n",
       "      <td>1445.0</td>\n",
       "      <td>2896.0</td>\n",
       "      <td>1233.0</td>\n",
       "      <td>2481.0</td>\n",
       "      <td>668.0</td>\n",
       "      <td>1319.0</td>\n",
       "      <td>682.0</td>\n",
       "      <td>1331.0</td>\n",
       "      <td>769.0</td>\n",
       "      <td>1458.0</td>\n",
       "      <td>571.0</td>\n",
       "      <td>1120.0</td>\n",
       "      <td>323.0</td>\n",
       "      <td>927.0</td>\n",
       "      <td>759.0</td>\n",
       "      <td>1532.0</td>\n",
       "      <td>415.0</td>\n",
       "      <td>745.0</td>\n",
       "    </tr>\n",
       "    <tr>\n",
       "      <th>2</th>\n",
       "      <td>378.0</td>\n",
       "      <td>812.0</td>\n",
       "      <td>382.0</td>\n",
       "      <td>711.0</td>\n",
       "      <td>252.0</td>\n",
       "      <td>478.0</td>\n",
       "      <td>221.0</td>\n",
       "      <td>443.0</td>\n",
       "      <td>266.0</td>\n",
       "      <td>510.0</td>\n",
       "      <td>128.0</td>\n",
       "      <td>267.0</td>\n",
       "      <td>66.0</td>\n",
       "      <td>98.0</td>\n",
       "      <td>212.0</td>\n",
       "      <td>458.0</td>\n",
       "      <td>133.0</td>\n",
       "      <td>227.0</td>\n",
       "    </tr>\n",
       "    <tr>\n",
       "      <th>3</th>\n",
       "      <td>51.0</td>\n",
       "      <td>101.0</td>\n",
       "      <td>26.0</td>\n",
       "      <td>63.0</td>\n",
       "      <td>21.0</td>\n",
       "      <td>53.0</td>\n",
       "      <td>16.0</td>\n",
       "      <td>32.0</td>\n",
       "      <td>17.0</td>\n",
       "      <td>34.0</td>\n",
       "      <td>18.0</td>\n",
       "      <td>29.0</td>\n",
       "      <td>5.0</td>\n",
       "      <td>6.0</td>\n",
       "      <td>29.0</td>\n",
       "      <td>45.0</td>\n",
       "      <td>8.0</td>\n",
       "      <td>25.0</td>\n",
       "    </tr>\n",
       "    <tr>\n",
       "      <th>4</th>\n",
       "      <td>23.0</td>\n",
       "      <td>48.0</td>\n",
       "      <td>23.0</td>\n",
       "      <td>41.0</td>\n",
       "      <td>10.0</td>\n",
       "      <td>16.0</td>\n",
       "      <td>4.0</td>\n",
       "      <td>10.0</td>\n",
       "      <td>5.0</td>\n",
       "      <td>14.0</td>\n",
       "      <td>8.0</td>\n",
       "      <td>17.0</td>\n",
       "      <td>0.0</td>\n",
       "      <td>1.0</td>\n",
       "      <td>12.0</td>\n",
       "      <td>17.0</td>\n",
       "      <td>7.0</td>\n",
       "      <td>10.0</td>\n",
       "    </tr>\n",
       "  </tbody>\n",
       "</table>\n",
       "</div>"
      ],
      "text/plain": [
       "     1_ad    1_dp    2_ad    2_dp   3_ad    3_dp   4_ad    4_dp   5_ad  \\\n",
       "0   814.0  1541.0   596.0  1211.0  304.0   665.0  286.0   569.0  427.0   \n",
       "1  1445.0  2896.0  1233.0  2481.0  668.0  1319.0  682.0  1331.0  769.0   \n",
       "2   378.0   812.0   382.0   711.0  252.0   478.0  221.0   443.0  266.0   \n",
       "3    51.0   101.0    26.0    63.0   21.0    53.0   16.0    32.0   17.0   \n",
       "4    23.0    48.0    23.0    41.0   10.0    16.0    4.0    10.0    5.0   \n",
       "\n",
       "     5_dp   6_ad    6_dp   7_ad   7_dp   8_ad    8_dp   9_ad   9_dp  \n",
       "0   880.0  351.0   683.0   63.0  194.0  384.0   726.0  234.0  434.0  \n",
       "1  1458.0  571.0  1120.0  323.0  927.0  759.0  1532.0  415.0  745.0  \n",
       "2   510.0  128.0   267.0   66.0   98.0  212.0   458.0  133.0  227.0  \n",
       "3    34.0   18.0    29.0    5.0    6.0   29.0    45.0    8.0   25.0  \n",
       "4    14.0    8.0    17.0    0.0    1.0   12.0    17.0    7.0   10.0  "
      ]
     },
     "execution_count": 6,
     "metadata": {},
     "output_type": "execute_result"
    }
   ],
   "source": [
    "data[f'{clustering_name}_block_counts'] =\\\n",
    "    toolkit.aggregate_by_barcode_groups(\n",
    "        data[\"block_counts\"], \n",
    "        data[f\"{clustering_name}_clustering\"]\n",
    "    )\n",
    "util.pickle_dump(\n",
    "    data[f'{clustering_name}_block_counts'], \n",
    "    f\"{workspace.tmp_dir}\"\n",
    "    f\"/{clustering_name}_block_counts.pkl\"\n",
    ")\n",
    "workspace.add_entry(\n",
    "    f\"{clustering_name}_block_counts\",\n",
    "    f'{clustering_name}_block_counts.pkl'\n",
    ")\n",
    "data[f'{clustering_name}_block_counts'].head()"
   ]
  },
  {
   "cell_type": "code",
   "execution_count": 7,
   "metadata": {},
   "outputs": [],
   "source": [
    "data[f'{clustering_name}_ase'] = ase.compute_ase(\n",
    "    data[f'{clustering_name}_block_counts'], \n",
    "    toolkit.extract_cluster_labels(data[f'{clustering_name}_clustering'])\n",
    ")\n",
    "util.pickle_dump(\n",
    "    data[f'{clustering_name}_ase'], \n",
    "    f\"{workspace.tmp_dir}\"\n",
    "    f\"/{clustering_name}_ase.pkl\"\n",
    ")\n",
    "workspace.add_entry(\n",
    "    f\"{clustering_name}_ase\",\n",
    "    f'{clustering_name}_ase.pkl'\n",
    ")"
   ]
  },
  {
   "cell_type": "code",
   "execution_count": 9,
   "metadata": {},
   "outputs": [
    {
     "name": "stdout",
     "output_type": "stream",
     "text": [
      "CPU times: user 1min 13s, sys: 8.93 s, total: 1min 22s\n",
      "Wall time: 1min 15s\n"
     ]
    },
    {
     "data": {
      "image/png": "[encoded data removed]",
      "text/plain": [
       "<Figure size 720x720 with 4 Axes>"
      ]
     },
     "metadata": {},
     "output_type": "display_data"
    }
   ],
   "source": [
    "%%time\n",
    "ase.plot_ase(\n",
    "    data[f'{clustering_name}_ase'],\n",
    "    title=f\"{data_name}, {sample_name}, {clustering_name}\",\n",
    "    xlabel=f\"{clustering_name} cluster labels\",\n",
    "    ylabel=\"all genes\",\n",
    "    row_cluster=True,\n",
    "    outfile=f\"{workspace.img_dir}/{clustering_name}_ase.pdf\"\n",
    ")"
   ]
  },
  {
   "cell_type": "code",
   "execution_count": 10,
   "metadata": {
    "scrolled": true
   },
   "outputs": [
    {
     "name": "stdout",
     "output_type": "stream",
     "text": [
      "Staged for commit: \n",
      "\t-evo_dist_9_eb_block_counts : evo_dist_9_eb_block_counts.pkl\n",
      "\t-evo_dist_9_eb_ase : evo_dist_9_eb_ase.pkl\n"
     ]
    },
    {
     "name": "stderr",
     "output_type": "stream",
     "text": [
      "/icgc/dkfzlsdf/analysis/B260/users/v390v/cnv_inference/data/tmp/counts_to_ase/STP_G&T/scDNA/evo_dist_9_eb_block_counts.pkl —> /icgc/dkfzlsdf/analysis/B260/users/v390v/cnv_inference/data/processed/STP_G&T/scDNA/evo_dist_9_eb_block_counts.pkl\n",
      "/icgc/dkfzlsdf/analysis/B260/users/v390v/cnv_inference/data/tmp/counts_to_ase/STP_G&T/scDNA/evo_dist_9_eb_ase.pkl —> /icgc/dkfzlsdf/analysis/B260/users/v390v/cnv_inference/data/processed/STP_G&T/scDNA/evo_dist_9_eb_ase.pkl\n"
     ]
    }
   ],
   "source": [
    "workspace.status()\n",
    "workspace.verify()\n",
    "workspace.push()"
   ]
  },
  {
   "cell_type": "code",
   "execution_count": null,
   "metadata": {},
   "outputs": [],
   "source": []
  }
 ],
 "metadata": {
  "kernelspec": {
   "display_name": "Python [conda env:.conda-xclone] *",
   "language": "python",
   "name": "conda-env-.conda-xclone-py"
  },
  "language_info": {
   "codemirror_mode": {
    "name": "ipython",
    "version": 3
   },
   "file_extension": ".py",
   "mimetype": "text/x-python",
   "name": "python",
   "nbconvert_exporter": "python",
   "pygments_lexer": "ipython3",
   "version": "3.7.3"
  }
 },
 "nbformat": 4,
 "nbformat_minor": 2
}
