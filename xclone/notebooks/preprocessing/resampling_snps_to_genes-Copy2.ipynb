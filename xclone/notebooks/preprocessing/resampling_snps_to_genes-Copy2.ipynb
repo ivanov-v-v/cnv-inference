{
 "cells": [
  {
   "cell_type": "code",
   "execution_count": 1,
   "metadata": {},
   "outputs": [
    {
     "name": "stdout",
     "output_type": "stream",
     "text": [
      "{'modality': 'scATAC', 'sample': 'N5CC3E-T1'}\n"
     ]
    }
   ],
   "source": [
    "%load_ext autoreload\n",
    "%autoreload 2\n",
    "\n",
    "import os\n",
    "import subprocess\n",
    "import sys\n",
    "import warnings\n",
    "\n",
    "warnings.simplefilter(\"ignore\", FutureWarning)\n",
    "\n",
    "import xclone_config\n",
    "project_config = xclone_config\n",
    "os.chdir(project_config.ROOT)\n",
    "\n",
    "from collections import defaultdict, OrderedDict\n",
    "import multiprocessing as mp\n",
    "import sys\n",
    "\n",
    "import numpy as np\n",
    "import pandas as pd\n",
    "from tqdm import tqdm, tqdm_notebook\n",
    "\n",
    "import matplotlib.pyplot as plt\n",
    "import seaborn as sns\n",
    "\n",
    "from data_types import ase\n",
    "import plotlib\n",
    "import toolkit\n",
    "import util\n",
    "import test_phasing\n",
    "from workspace.workspace_manager import WorkspaceManager\n",
    "\n",
    "workspace = WorkspaceManager(\n",
    "    task_name=\"preprocessing\",\n",
    "    experiment_info={\"sample\" : \"N5CC3E-T1\", \n",
    "                     \"modality\" : \"scATAC\"},\n",
    "    verbose=True\n",
    ")\n",
    "workspace.load_workspace()\n",
    "print(workspace.experiment_info)\n",
    "sns.set()"
   ]
  },
  {
   "cell_type": "code",
   "execution_count": 2,
   "metadata": {},
   "outputs": [],
   "source": [
    "data = {\n",
    "    data_type : util.pickle_load(workspace.tmp_data[data_type])\n",
    "    for data_type in [\"snp_counts\", \"phasing\", \"blocks\"]\n",
    "}\n",
    "data[\"snp\"] = data[\"snp_counts\"]\\\n",
    "                [[\"CHROM\", \"POS\"]]\\\n",
    "                .to_dense()\\\n",
    "                .astype(np.int64)"
   ]
  },
  {
   "cell_type": "code",
   "execution_count": 3,
   "metadata": {},
   "outputs": [
    {
     "data": {
      "text/plain": [
       "Index(['CHROM', 'START', 'END', 'COPY_NUMBER', 'BLOCK_ID'], dtype='object')"
      ]
     },
     "execution_count": 3,
     "metadata": {},
     "output_type": "execute_result"
    }
   ],
   "source": [
    "data[\"blocks\"].columns"
   ]
  },
  {
   "cell_type": "code",
   "execution_count": 4,
   "metadata": {},
   "outputs": [],
   "source": [
    "chrom_to_blocks = {\n",
    "    str(chrom) : data[\"blocks\"][data[\"blocks\"][\"CHROM\"] == chrom]\n",
    "    for chrom in data[\"blocks\"][\"CHROM\"].unique()\n",
    "}"
   ]
  },
  {
   "cell_type": "code",
   "execution_count": 5,
   "metadata": {},
   "outputs": [
    {
     "data": {
      "application/vnd.jupyter.widget-view+json": {
       "model_id": "f910026ab5a64c0993ca90d4fdffb0ee",
       "version_major": 2,
       "version_minor": 0
      },
      "text/plain": [
       "HBox(children=(IntProgress(value=0, description='SNP processing', max=1008454, style=ProgressStyle(description…"
      ]
     },
     "metadata": {},
     "output_type": "display_data"
    },
    {
     "name": "stdout",
     "output_type": "stream",
     "text": [
      "\n",
      "CPU times: user 13.9 s, sys: 1.62 s, total: 15.5 s\n",
      "Wall time: 2min 28s\n"
     ]
    }
   ],
   "source": [
    "%%time\n",
    "\n",
    "# Here block coverage for each phased SNP is computed\n",
    "# TODO: rewrite this using \"bedtools intersect\".\n",
    "# This part doesn't scale well.\n",
    "\n",
    "def intersect_snp_with_blocks(snp_tuple):\n",
    "    chrom, pos = snp_tuple\n",
    "    # 1-based to 0-based \n",
    "    pos -= 1 # because CellSNP is 1-based, but .bed files are 0-based\n",
    "    blocks_on_chrom = chrom_to_blocks.get(str(chrom), None)\n",
    "    if blocks_on_chrom is None:\n",
    "        return \"\"\n",
    "    mask = ((blocks_on_chrom.START <= pos) \n",
    "            & (pos < blocks_on_chrom.END))\n",
    "    return '@'.join(blocks_on_chrom[mask].BLOCK_ID)\n",
    "\n",
    "# result = [intersect_snp_with_blocks(snp_tuple) \n",
    "#           for snp_tuple in tqdm_notebook(data[\"snp\"][data[\"snp\"][\"CHROM\"] == 10].values, \n",
    "#                                          \"SNP processing\")]\n",
    "pool = mp.Pool(16)\n",
    "result = pool.map(intersect_snp_with_blocks, \n",
    "                  tqdm_notebook(data[\"snp\"].values, \n",
    "                                \"SNP processing\"))\n",
    "pool.close()\n",
    "pool.join()"
   ]
  },
  {
   "cell_type": "code",
   "execution_count": 6,
   "metadata": {},
   "outputs": [
    {
     "data": {
      "application/vnd.jupyter.widget-view+json": {
       "model_id": "273dbb7c0e474d7c99f3172bba4a2b62",
       "version_major": 2,
       "version_minor": 0
      },
      "text/plain": [
       "HBox(children=(IntProgress(value=1, bar_style='info', description='mapping SNPs to blocks', max=1, style=Progr…"
      ]
     },
     "metadata": {},
     "output_type": "display_data"
    },
    {
     "name": "stdout",
     "output_type": "stream",
     "text": [
      "\n"
     ]
    }
   ],
   "source": [
    "\"\"\" Here the raw results computed in parallel are parsed \"\"\"\n",
    "snp_to_blocks, block_to_snps = {}, OrderedDict()\n",
    "\n",
    "# This way we ensure proper block ordering\n",
    "for block_id in data[\"blocks\"].BLOCK_ID:\n",
    "    block_to_snps[block_id] = []\n",
    "\n",
    "for i, row in tqdm_notebook(enumerate(data[\"snp\"].values), \n",
    "                            \"mapping SNPs to blocks\"):\n",
    "    chrom, pos = row\n",
    "    snp = f\"{chrom},{pos}\"\n",
    "    snp_to_blocks[snp] = result[i].split(\"@\") if result[i] else []\n",
    "    for block in snp_to_blocks[snp]:\n",
    "        block_to_snps[block].append(snp)"
   ]
  },
  {
   "cell_type": "code",
   "execution_count": 7,
   "metadata": {},
   "outputs": [
    {
     "data": {
      "image/png": "[encoded data removed]",
      "text/plain": [
       "<Figure size 1152x576 with 1 Axes>"
      ]
     },
     "metadata": {
      "needs_background": "light"
     },
     "output_type": "display_data"
    }
   ],
   "source": [
    "plt.figure(figsize=(16,8))\n",
    "sns.set(font_scale=1.5)\n",
    "plt.title(f\"{workspace.experiment_info['modality']}, \"\n",
    "          \"number of blocks covering one SNP\")\n",
    "plt.xlabel(\"number of blocks\")\n",
    "plt.ylabel(\"snp count\")\n",
    "plt.hist([len(block_list) for block_list in snp_to_blocks.values()]);"
   ]
  },
  {
   "cell_type": "code",
   "execution_count": 8,
   "metadata": {},
   "outputs": [
    {
     "data": {
      "image/png": "[encoded data removed]",
      "text/plain": [
       "<Figure size 1152x576 with 1 Axes>"
      ]
     },
     "metadata": {},
     "output_type": "display_data"
    }
   ],
   "source": [
    "plt.figure(figsize=(16,8))\n",
    "plt.title(f\"{workspace.experiment_info['modality']}\"\n",
    "          \", number of SNPs covered by block\")\n",
    "plt.xlabel(\"number of snps\")\n",
    "plt.ylabel(\"block count\")\n",
    "plt.hist([len(snp_list) for snp_list \n",
    "          in block_to_snps.values()]);"
   ]
  },
  {
   "cell_type": "code",
   "execution_count": 9,
   "metadata": {},
   "outputs": [],
   "source": [
    "util.pickle_dump(\n",
    "    snp_to_blocks, \n",
    "    f\"{workspace.tmp_dir}/snp_to_blocks.pkl\"\n",
    ")\n",
    "workspace.add_entry(\"snp_to_blocks\", \"10mb_eagle2_snp_to_cn.pkl\")\n",
    "util.pickle_dump(\n",
    "    block_to_snps, \n",
    "    f\"{workspace.tmp_dir}/block_to_snps.pkl\"\n",
    ")\n",
    "workspace.add_entry(\"block_to_snps\", \"10mb_eagle2_cn_to_snps.pkl\")"
   ]
  },
  {
   "cell_type": "code",
   "execution_count": 10,
   "metadata": {},
   "outputs": [
    {
     "name": "stdout",
     "output_type": "stream",
     "text": [
      "Staged for commit: \n",
      "\t-snp_to_blocks : 10mb_eagle2_snp_to_cn.pkl\n",
      "\t-block_to_snps : 10mb_eagle2_cn_to_snps.pkl\n"
     ]
    }
   ],
   "source": [
    "workspace.status()"
   ]
  },
  {
   "cell_type": "code",
   "execution_count": 11,
   "metadata": {},
   "outputs": [
    {
     "data": {
      "application/vnd.jupyter.widget-view+json": {
       "model_id": "9ba2c70cc31c4abbb51e749384939314",
       "version_major": 2,
       "version_minor": 0
      },
      "text/plain": [
       "HBox(children=(IntProgress(value=0, description='extracting snps...', max=1008454, style=ProgressStyle(descrip…"
      ]
     },
     "metadata": {},
     "output_type": "display_data"
    },
    {
     "name": "stdout",
     "output_type": "stream",
     "text": [
      "\n"
     ]
    },
    {
     "data": {
      "application/vnd.jupyter.widget-view+json": {
       "model_id": "577c057840ee487bb27d0c3e446a19bf",
       "version_major": 2,
       "version_minor": 0
      },
      "text/plain": [
       "HBox(children=(IntProgress(value=1, bar_style='info', description='mapping snps to their index numbers by posi…"
      ]
     },
     "metadata": {},
     "output_type": "display_data"
    },
    {
     "name": "stdout",
     "output_type": "stream",
     "text": [
      "\n"
     ]
    }
   ],
   "source": [
    "snp_to_idx = {snp : i for i, snp in \n",
    "              tqdm_notebook(enumerate(toolkit.extract_snps(data[\"snp_counts\"])), \n",
    "                            \"mapping snps to their index numbers \"\n",
    "                            \"by position in the blocks\")}"
   ]
  },
  {
   "cell_type": "code",
   "execution_count": 12,
   "metadata": {
    "code_folding": []
   },
   "outputs": [
    {
     "data": {
      "application/vnd.jupyter.widget-view+json": {
       "model_id": "be88de850e4c4316a5121bc3a7d68f8c",
       "version_major": 2,
       "version_minor": 0
      },
      "text/plain": [
       "HBox(children=(IntProgress(value=0, description='mapping block to SNP ids (for faster row selection)', max=104…"
      ]
     },
     "metadata": {},
     "output_type": "display_data"
    },
    {
     "name": "stdout",
     "output_type": "stream",
     "text": [
      "\n"
     ]
    },
    {
     "data": {
      "application/vnd.jupyter.widget-view+json": {
       "model_id": "31a746573b9043c7aea12f8f7d8b96cc",
       "version_major": 2,
       "version_minor": 0
      },
      "text/plain": [
       "HBox(children=(IntProgress(value=0, description='cell_barcode processing', max=7166, style=ProgressStyle(descr…"
      ]
     },
     "metadata": {},
     "output_type": "display_data"
    },
    {
     "name": "stdout",
     "output_type": "stream",
     "text": [
      "\n",
      "<class 'pandas.core.sparse.frame.SparseDataFrame'>\n",
      "RangeIndex: 1048 entries, 0 to 1047\n",
      "Columns: 14332 entries, AAACGAAAGGGAGATA-1_ad to TTTGTGTTCTTAATCC-1_dp\n",
      "dtypes: Sparse[float64, nan](14332)\n",
      "memory usage: 59.0 MB\n",
      "CPU times: user 20.1 s, sys: 3.47 s, total: 23.6 s\n",
      "Wall time: 1min 28s\n"
     ]
    }
   ],
   "source": [
    "%%time\n",
    "\n",
    "block_to_snp_ids = {block : np.array([snp_to_idx[snp] for snp in snp_list]) \n",
    "                   for block, snp_list \n",
    "                   in tqdm_notebook(block_to_snps.items(), \n",
    "                                    desc=\"mapping block to SNP ids\"\n",
    "                                    \" (for faster row selection)\")}\n",
    "\n",
    "import numba\n",
    "# @numba.jit(nopython=True)\n",
    "def get_block_counts(ad, dp, snp_ids):\n",
    "    if snp_ids.size > 0:\n",
    "#         mask = np.zeros(ad.size).astype(np.bool)\n",
    "#         mask[snp_ids] = True\n",
    "#         ad_sample, dp_sample = ad[s], dp[mask]\n",
    "        return np.nansum(ad[snp_ids]), np.nansum(dp[snp_ids])\n",
    "    return np.nan, np.nan\n",
    "\n",
    "\n",
    "def extract_block_counts(barcode):\n",
    "    block_to_ad, block_to_dp = [], []\n",
    "    # I need to convert these columns to dense format\n",
    "    # because I need only a subset of rows on each iteration \n",
    "    ad = np.array(data[\"snp_counts\"][f\"{barcode}_ad\"])\n",
    "    dp = np.array(data[\"snp_counts\"][f\"{barcode}_dp\"])\n",
    "    \n",
    "    # block_to_snps is an OrderedDict, so we can guarantee\n",
    "    # that all the blocks are processed in a correct order\n",
    "    for snp_ids in block_to_snp_ids.values():\n",
    "        if len(snp_ids) > 0:\n",
    "            dp_sum = np.nansum(dp[snp_ids])\n",
    "            block_to_dp.append(np.nan if dp_sum == 0 else dp_sum)\n",
    "            block_to_ad.append(np.nan if dp_sum == 0 \n",
    "                               else np.nansum(ad[snp_ids]))\n",
    "        else:\n",
    "            block_to_ad.append(np.nan)\n",
    "            block_to_dp.append(np.nan)\n",
    "    \n",
    "    return pd.SparseDataFrame({\n",
    "        f\"{barcode}_ad\" : block_to_ad, \n",
    "        f\"{barcode}_dp\" : block_to_dp\n",
    "    })\n",
    "\n",
    "\n",
    "pool = mp.Pool(16)\n",
    "result_list = pool.map(\n",
    "    extract_block_counts, \n",
    "    tqdm_notebook(toolkit.extract_barcodes(data[\"snp_counts\"]), \n",
    "                  desc=\"cell_barcode processing\")\n",
    ")\n",
    "pool.close()\n",
    "pool.join()\n",
    "# result_list = [extract_block_counts(barcode) for barcode in \n",
    "#                tqdm_notebook(toolkit.extract_barcodes(data[\"snp_counts\"]), \n",
    "#                              desc=\"cell_barcode processing\")]\n",
    "data[\"block_counts\"] = pd.concat(result_list, axis=1)\n",
    "data[\"block_counts\"].info()"
   ]
  },
  {
   "cell_type": "code",
   "execution_count": 13,
   "metadata": {
    "scrolled": false
   },
   "outputs": [
    {
     "data": {
      "text/html": [
       "<div>\n",
       "<style scoped>\n",
       "    .dataframe tbody tr th:only-of-type {\n",
       "        vertical-align: middle;\n",
       "    }\n",
       "\n",
       "    .dataframe tbody tr th {\n",
       "        vertical-align: top;\n",
       "    }\n",
       "\n",
       "    .dataframe thead th {\n",
       "        text-align: right;\n",
       "    }\n",
       "</style>\n",
       "<table border=\"1\" class=\"dataframe\">\n",
       "  <thead>\n",
       "    <tr style=\"text-align: right;\">\n",
       "      <th></th>\n",
       "      <th>BLOCK_ID</th>\n",
       "      <th>AAACGAAAGGGAGATA-1_ad</th>\n",
       "      <th>AAACGAAAGGGAGATA-1_dp</th>\n",
       "      <th>AAACGAAAGTCGATAA-1_ad</th>\n",
       "      <th>AAACGAAAGTCGATAA-1_dp</th>\n",
       "      <th>AAACGAACAAACCCTA-1_ad</th>\n",
       "      <th>AAACGAACAAACCCTA-1_dp</th>\n",
       "      <th>AAACGAACAACGCACC-1_ad</th>\n",
       "      <th>AAACGAACAACGCACC-1_dp</th>\n",
       "      <th>AAACGAACAAGTCTGT-1_ad</th>\n",
       "      <th>...</th>\n",
       "      <th>TTTGTGTGTTTGATCG-1_ad</th>\n",
       "      <th>TTTGTGTGTTTGATCG-1_dp</th>\n",
       "      <th>TTTGTGTTCCTATCAT-1_ad</th>\n",
       "      <th>TTTGTGTTCCTATCAT-1_dp</th>\n",
       "      <th>TTTGTGTTCCTCATTA-1_ad</th>\n",
       "      <th>TTTGTGTTCCTCATTA-1_dp</th>\n",
       "      <th>TTTGTGTTCGCTAGTA-1_ad</th>\n",
       "      <th>TTTGTGTTCGCTAGTA-1_dp</th>\n",
       "      <th>TTTGTGTTCTTAATCC-1_ad</th>\n",
       "      <th>TTTGTGTTCTTAATCC-1_dp</th>\n",
       "    </tr>\n",
       "  </thead>\n",
       "  <tbody>\n",
       "    <tr>\n",
       "      <th>0</th>\n",
       "      <td>0</td>\n",
       "      <td>2.0</td>\n",
       "      <td>2.0</td>\n",
       "      <td>1.0</td>\n",
       "      <td>1.0</td>\n",
       "      <td>0.0</td>\n",
       "      <td>2.0</td>\n",
       "      <td>NaN</td>\n",
       "      <td>NaN</td>\n",
       "      <td>NaN</td>\n",
       "      <td>...</td>\n",
       "      <td>2.0</td>\n",
       "      <td>2.0</td>\n",
       "      <td>3.0</td>\n",
       "      <td>10.0</td>\n",
       "      <td>0.0</td>\n",
       "      <td>2.0</td>\n",
       "      <td>5.0</td>\n",
       "      <td>9.0</td>\n",
       "      <td>2.0</td>\n",
       "      <td>2.0</td>\n",
       "    </tr>\n",
       "    <tr>\n",
       "      <th>1</th>\n",
       "      <td>1</td>\n",
       "      <td>1.0</td>\n",
       "      <td>1.0</td>\n",
       "      <td>NaN</td>\n",
       "      <td>NaN</td>\n",
       "      <td>0.0</td>\n",
       "      <td>2.0</td>\n",
       "      <td>NaN</td>\n",
       "      <td>NaN</td>\n",
       "      <td>NaN</td>\n",
       "      <td>...</td>\n",
       "      <td>2.0</td>\n",
       "      <td>2.0</td>\n",
       "      <td>4.0</td>\n",
       "      <td>8.0</td>\n",
       "      <td>0.0</td>\n",
       "      <td>2.0</td>\n",
       "      <td>3.0</td>\n",
       "      <td>7.0</td>\n",
       "      <td>1.0</td>\n",
       "      <td>1.0</td>\n",
       "    </tr>\n",
       "    <tr>\n",
       "      <th>2</th>\n",
       "      <td>2</td>\n",
       "      <td>NaN</td>\n",
       "      <td>NaN</td>\n",
       "      <td>1.0</td>\n",
       "      <td>1.0</td>\n",
       "      <td>0.0</td>\n",
       "      <td>2.0</td>\n",
       "      <td>NaN</td>\n",
       "      <td>NaN</td>\n",
       "      <td>NaN</td>\n",
       "      <td>...</td>\n",
       "      <td>3.0</td>\n",
       "      <td>3.0</td>\n",
       "      <td>7.0</td>\n",
       "      <td>11.0</td>\n",
       "      <td>1.0</td>\n",
       "      <td>3.0</td>\n",
       "      <td>3.0</td>\n",
       "      <td>5.0</td>\n",
       "      <td>1.0</td>\n",
       "      <td>1.0</td>\n",
       "    </tr>\n",
       "    <tr>\n",
       "      <th>3</th>\n",
       "      <td>3</td>\n",
       "      <td>0.0</td>\n",
       "      <td>1.0</td>\n",
       "      <td>1.0</td>\n",
       "      <td>1.0</td>\n",
       "      <td>0.0</td>\n",
       "      <td>2.0</td>\n",
       "      <td>NaN</td>\n",
       "      <td>NaN</td>\n",
       "      <td>NaN</td>\n",
       "      <td>...</td>\n",
       "      <td>1.0</td>\n",
       "      <td>1.0</td>\n",
       "      <td>6.0</td>\n",
       "      <td>9.0</td>\n",
       "      <td>2.0</td>\n",
       "      <td>4.0</td>\n",
       "      <td>2.0</td>\n",
       "      <td>3.0</td>\n",
       "      <td>1.0</td>\n",
       "      <td>1.0</td>\n",
       "    </tr>\n",
       "    <tr>\n",
       "      <th>4</th>\n",
       "      <td>4</td>\n",
       "      <td>0.0</td>\n",
       "      <td>1.0</td>\n",
       "      <td>1.0</td>\n",
       "      <td>1.0</td>\n",
       "      <td>NaN</td>\n",
       "      <td>NaN</td>\n",
       "      <td>NaN</td>\n",
       "      <td>NaN</td>\n",
       "      <td>NaN</td>\n",
       "      <td>...</td>\n",
       "      <td>1.0</td>\n",
       "      <td>3.0</td>\n",
       "      <td>6.0</td>\n",
       "      <td>9.0</td>\n",
       "      <td>3.0</td>\n",
       "      <td>3.0</td>\n",
       "      <td>0.0</td>\n",
       "      <td>1.0</td>\n",
       "      <td>1.0</td>\n",
       "      <td>1.0</td>\n",
       "    </tr>\n",
       "  </tbody>\n",
       "</table>\n",
       "<p>5 rows × 14333 columns</p>\n",
       "</div>"
      ],
      "text/plain": [
       "  BLOCK_ID  AAACGAAAGGGAGATA-1_ad  AAACGAAAGGGAGATA-1_dp  \\\n",
       "0        0                    2.0                    2.0   \n",
       "1        1                    1.0                    1.0   \n",
       "2        2                    NaN                    NaN   \n",
       "3        3                    0.0                    1.0   \n",
       "4        4                    0.0                    1.0   \n",
       "\n",
       "   AAACGAAAGTCGATAA-1_ad  AAACGAAAGTCGATAA-1_dp  AAACGAACAAACCCTA-1_ad  \\\n",
       "0                    1.0                    1.0                    0.0   \n",
       "1                    NaN                    NaN                    0.0   \n",
       "2                    1.0                    1.0                    0.0   \n",
       "3                    1.0                    1.0                    0.0   \n",
       "4                    1.0                    1.0                    NaN   \n",
       "\n",
       "   AAACGAACAAACCCTA-1_dp  AAACGAACAACGCACC-1_ad  AAACGAACAACGCACC-1_dp  \\\n",
       "0                    2.0                    NaN                    NaN   \n",
       "1                    2.0                    NaN                    NaN   \n",
       "2                    2.0                    NaN                    NaN   \n",
       "3                    2.0                    NaN                    NaN   \n",
       "4                    NaN                    NaN                    NaN   \n",
       "\n",
       "   AAACGAACAAGTCTGT-1_ad  ...  TTTGTGTGTTTGATCG-1_ad  TTTGTGTGTTTGATCG-1_dp  \\\n",
       "0                    NaN  ...                    2.0                    2.0   \n",
       "1                    NaN  ...                    2.0                    2.0   \n",
       "2                    NaN  ...                    3.0                    3.0   \n",
       "3                    NaN  ...                    1.0                    1.0   \n",
       "4                    NaN  ...                    1.0                    3.0   \n",
       "\n",
       "   TTTGTGTTCCTATCAT-1_ad  TTTGTGTTCCTATCAT-1_dp  TTTGTGTTCCTCATTA-1_ad  \\\n",
       "0                    3.0                   10.0                    0.0   \n",
       "1                    4.0                    8.0                    0.0   \n",
       "2                    7.0                   11.0                    1.0   \n",
       "3                    6.0                    9.0                    2.0   \n",
       "4                    6.0                    9.0                    3.0   \n",
       "\n",
       "   TTTGTGTTCCTCATTA-1_dp  TTTGTGTTCGCTAGTA-1_ad  TTTGTGTTCGCTAGTA-1_dp  \\\n",
       "0                    2.0                    5.0                    9.0   \n",
       "1                    2.0                    3.0                    7.0   \n",
       "2                    3.0                    3.0                    5.0   \n",
       "3                    4.0                    2.0                    3.0   \n",
       "4                    3.0                    0.0                    1.0   \n",
       "\n",
       "   TTTGTGTTCTTAATCC-1_ad  TTTGTGTTCTTAATCC-1_dp  \n",
       "0                    2.0                    2.0  \n",
       "1                    1.0                    1.0  \n",
       "2                    1.0                    1.0  \n",
       "3                    1.0                    1.0  \n",
       "4                    1.0                    1.0  \n",
       "\n",
       "[5 rows x 14333 columns]"
      ]
     },
     "execution_count": 13,
     "metadata": {},
     "output_type": "execute_result"
    }
   ],
   "source": [
    "data[\"block_counts\"].insert(\n",
    "    0, \"BLOCK_ID\", \n",
    "    list(block_to_snps.keys())\n",
    "#     [block for block, snp_list \n",
    "#      in block_to_snps.items() \n",
    "#      if len(snp_list) > 0]\n",
    ")\n",
    "data[\"block_counts\"].head()"
   ]
  },
  {
   "cell_type": "code",
   "execution_count": 14,
   "metadata": {},
   "outputs": [],
   "source": [
    "# data[\"clustering\"] = util.pickle_load(f\"{workspace.tmp_dir}/clustering.pkl\")"
   ]
  },
  {
   "cell_type": "code",
   "execution_count": 15,
   "metadata": {},
   "outputs": [],
   "source": [
    "# clean_barcodes = data[\"clustering\"][\"BARCODE\"]\n",
    "# raw_barcodes = toolkit.extract_barcodes(data[\"block_counts\"])\n",
    "# noisy_barcodes = np.setdiff1d(raw_barcodes, clean_barcodes)\n",
    "# data[\"block_counts\"].drop(\n",
    "#     columns=[f\"{barcode}_ad\" for barcode in noisy_barcodes],\n",
    "#     inplace=True\n",
    "# )\n",
    "# data[\"block_counts\"].drop(\n",
    "#     columns=[f\"{barcode}_dp\" for barcode in noisy_barcodes],\n",
    "#     inplace=True\n",
    "# )"
   ]
  },
  {
   "cell_type": "code",
   "execution_count": 16,
   "metadata": {},
   "outputs": [],
   "source": [
    "# remaining_blocks = data[\"blocks\"][\n",
    "#     data[\"blocks\"].BLOCK_ID.isin(data[\"block_counts\"].BLOCK_ID)\n",
    "# ].reset_index(drop=True)\n",
    "\n",
    "# data[\"block_counts\"] = data[\"block_counts\"].merge(\n",
    "#     remaining_blocks,\n",
    "#     on=\"BLOCK_ID\"\n",
    "# )"
   ]
  },
  {
   "cell_type": "code",
   "execution_count": 17,
   "metadata": {},
   "outputs": [],
   "source": [
    "# data[\"block_counts\"] = data[\"block_counts\"].to_sparse()"
   ]
  },
  {
   "cell_type": "code",
   "execution_count": 18,
   "metadata": {
    "scrolled": false
   },
   "outputs": [
    {
     "name": "stderr",
     "output_type": "stream",
     "text": [
      "/icgc/dkfzlsdf/analysis/B260/users/v390v/xclone/data/tmp/preprocessing/N5CC3E-T1/scATAC/snp_to_blocks.pkl —> /icgc/dkfzlsdf/analysis/B260/users/v390v/xclone/data/processed/N5CC3E-T1/scATAC/10mb_eagle2_snp_to_cn.pkl\n",
      "/icgc/dkfzlsdf/analysis/B260/users/v390v/xclone/data/tmp/preprocessing/N5CC3E-T1/scATAC/block_to_snps.pkl —> /icgc/dkfzlsdf/analysis/B260/users/v390v/xclone/data/processed/N5CC3E-T1/scATAC/10mb_eagle2_cn_to_snps.pkl\n",
      "/icgc/dkfzlsdf/analysis/B260/users/v390v/xclone/data/tmp/preprocessing/N5CC3E-T1/scATAC/block_counts.pkl —> /icgc/dkfzlsdf/analysis/B260/users/v390v/xclone/data/processed/N5CC3E-T1/scATAC/10mb_eagle2_stat_phased_cn_counts.pkl\n"
     ]
    }
   ],
   "source": [
    "util.pickle_dump(\n",
    "    data[\"block_counts\"],\n",
    "    os.path.join(\n",
    "        workspace.tmp_dir,\n",
    "        \"block_counts.pkl\"\n",
    "    )\n",
    ")\n",
    "workspace.add_entry(\"block_counts\", \"10mb_eagle2_stat_phased_cn_counts.pkl\")\n",
    "workspace.verify()\n",
    "workspace.push()"
   ]
  },
  {
   "cell_type": "code",
   "execution_count": 19,
   "metadata": {},
   "outputs": [
    {
     "data": {
      "application/vnd.jupyter.widget-view+json": {
       "model_id": "a0b72279dc904488b06d3550775c3514",
       "version_major": 2,
       "version_minor": 0
      },
      "text/plain": [
       "HBox(children=(IntProgress(value=0, max=2), HTML(value='')))"
      ]
     },
     "metadata": {},
     "output_type": "display_data"
    },
    {
     "name": "stdout",
     "output_type": "stream",
     "text": [
      "\n"
     ]
    }
   ],
   "source": [
    "import scipy.io as spio\n",
    "import scipy.sparse as sparse\n",
    "for count_type in tqdm_notebook([\"ad\", \"dp\"]):\n",
    "#     toolkit.extract_counts(\n",
    "#         data[\"block_counts\"], \n",
    "#         suffix=count_type\n",
    "#     ).to_hdf(\n",
    "#         os.path.join(\n",
    "#             workspace.dir,\n",
    "#             f\"10mb_eagle2_stat_phased_cn_{count_type}.hd5\"\n",
    "#         ), key=\"df\"\n",
    "#     )\n",
    "    spio.mmwrite(\n",
    "        os.path.join(\n",
    "            workspace.dir,\n",
    "            f\"10mb_eagle2_{count_type}.mtx\"\n",
    "        ),\n",
    "        (toolkit.extract_counts(\n",
    "            data[\"block_counts\"], \n",
    "            suffix=count_type\n",
    "        ) + 1).to_coo()\n",
    "    )"
   ]
  },
  {
   "cell_type": "code",
   "execution_count": 20,
   "metadata": {},
   "outputs": [],
   "source": [
    "data[\"ase\"] = ase.compute_ase(\n",
    "    data[\"block_counts\"], \n",
    "    toolkit.extract_barcodes(data[\"block_counts\"])\n",
    ").to_sparse()"
   ]
  },
  {
   "cell_type": "code",
   "execution_count": 21,
   "metadata": {},
   "outputs": [],
   "source": [
    "import scipy.io \n",
    "scipy.io.mmwrite(f\"{workspace.dir}/10mb_eagle2_stat_phased_cn_ase.mtx\", \n",
    "                 (data[\"ase\"] + 1).to_coo())"
   ]
  },
  {
   "cell_type": "code",
   "execution_count": 22,
   "metadata": {},
   "outputs": [
    {
     "name": "stderr",
     "output_type": "stream",
     "text": [
      "/icgc/dkfzlsdf/analysis/B260/users/v390v/xclone/data/tmp/preprocessing/N5CC3E-T1/scATAC/snp_to_blocks.pkl —> /icgc/dkfzlsdf/analysis/B260/users/v390v/xclone/data/processed/N5CC3E-T1/scATAC/10mb_eagle2_snp_to_cn.pkl\n",
      "/icgc/dkfzlsdf/analysis/B260/users/v390v/xclone/data/tmp/preprocessing/N5CC3E-T1/scATAC/block_to_snps.pkl —> /icgc/dkfzlsdf/analysis/B260/users/v390v/xclone/data/processed/N5CC3E-T1/scATAC/10mb_eagle2_cn_to_snps.pkl\n",
      "/icgc/dkfzlsdf/analysis/B260/users/v390v/xclone/data/tmp/preprocessing/N5CC3E-T1/scATAC/block_counts.pkl —> /icgc/dkfzlsdf/analysis/B260/users/v390v/xclone/data/processed/N5CC3E-T1/scATAC/10mb_eagle2_stat_phased_cn_counts.pkl\n",
      "/icgc/dkfzlsdf/analysis/B260/users/v390v/xclone/data/tmp/preprocessing/N5CC3E-T1/scATAC/ase.pkl —> /icgc/dkfzlsdf/analysis/B260/users/v390v/xclone/data/processed/N5CC3E-T1/scATAC/10mb_eagle2_stat_phased_cn_ase.pkl\n"
     ]
    }
   ],
   "source": [
    "util.pickle_dump(\n",
    "    data[\"ase\"],\n",
    "    os.path.join(\n",
    "        workspace.tmp_dir,\n",
    "        \"ase.pkl\"\n",
    "    )\n",
    ")\n",
    "workspace.add_entry(\"ase\", \"10mb_eagle2_stat_phased_cn_ase.pkl\")\n",
    "workspace.verify()\n",
    "workspace.push()"
   ]
  },
  {
   "cell_type": "code",
   "execution_count": 23,
   "metadata": {},
   "outputs": [],
   "source": [
    "data[\"blocks\"][[\"BLOCK_ID\", \"CHROM\", \"START\", \"END\"]].to_csv(\n",
    "    os.path.join(\n",
    "        workspace.dir,\n",
    "        \"10mb_eagle2_cn_annotation.csv\"\n",
    "    ), index=False\n",
    ")\n",
    "with open(os.path.join(workspace.dir, \"10mb_eagle2_barcodes.txt\"), \"w\") as outfile:\n",
    "    outfile.write(\"\\n\".join(toolkit.extract_barcodes(data[\"block_counts\"])))"
   ]
  },
  {
   "cell_type": "code",
   "execution_count": null,
   "metadata": {},
   "outputs": [],
   "source": []
  }
 ],
 "metadata": {
  "kernelspec": {
   "display_name": "Python [conda env:.conda-xclone] *",
   "language": "python",
   "name": "conda-env-.conda-xclone-py"
  },
  "language_info": {
   "codemirror_mode": {
    "name": "ipython",
    "version": 3
   },
   "file_extension": ".py",
   "mimetype": "text/x-python",
   "name": "python",
   "nbconvert_exporter": "python",
   "pygments_lexer": "ipython3",
   "version": "3.7.3"
  }
 },
 "nbformat": 4,
 "nbformat_minor": 2
}
