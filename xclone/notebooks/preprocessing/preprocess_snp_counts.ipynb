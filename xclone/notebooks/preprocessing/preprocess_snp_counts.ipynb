{
 "cells": [
  {
   "cell_type": "code",
   "execution_count": 75,
   "metadata": {
    "ExecuteTime": {
     "end_time": "2019-07-24T13:21:20.804458Z",
     "start_time": "2019-07-24T13:21:11.742301Z"
    }
   },
   "outputs": [
    {
     "name": "stdout",
     "output_type": "stream",
     "text": [
      "The autoreload extension is already loaded. To reload it, use:\n",
      "  %reload_ext autoreload\n"
     ]
    }
   ],
   "source": [
    "%load_ext autoreload\n",
    "%autoreload 2\n",
    "\n",
    "import os\n",
    "import subprocess\n",
    "import sys\n",
    "import warnings\n",
    "\n",
    "warnings.simplefilter(\"ignore\", FutureWarning)\n",
    "\n",
    "import xclone_config\n",
    "project_config = xclone_config\n",
    "os.chdir(project_config.ROOT)\n",
    "\n",
    "from collections import defaultdict, OrderedDict\n",
    "import multiprocessing as mp\n",
    "import sys\n",
    "\n",
    "import numpy as np\n",
    "import pandas as pd\n",
    "from tqdm import tqdm, tqdm_notebook\n",
    "\n",
    "import matplotlib.pyplot as plt\n",
    "import seaborn as sns\n",
    "\n",
    "from data_types import ase\n",
    "import plotlib\n",
    "import toolkit\n",
    "import util\n",
    "import test_phasing\n",
    "from workspace.workspace_manager import WorkspaceManager\n",
    "\n",
    "workspace = WorkspaceManager(\n",
    "    task_name=\"preprocessing\",\n",
    "    experiment_info={\"sample\" : \"N5CC3E-T1\", \n",
    "                     \"modality\" : \"scATAC\"},\n",
    "    verbose=True\n",
    ")\n",
    "workspace.load_workspace()\n",
    "\n",
    "sns.set()"
   ]
  },
  {
   "cell_type": "markdown",
   "metadata": {},
   "source": [
    "## Loading data"
   ]
  },
  {
   "cell_type": "code",
   "execution_count": 76,
   "metadata": {},
   "outputs": [
    {
     "data": {
      "application/vnd.jupyter.widget-view+json": {
       "model_id": "a931e0f6fdf84ef1b51945888079fed6",
       "version_major": 2,
       "version_minor": 0
      },
      "text/plain": [
       "HBox(children=(IntProgress(value=0, description='loading datasets into RAM', max=3, style=ProgressStyle(descri…"
      ]
     },
     "metadata": {},
     "output_type": "display_data"
    }
   ],
   "source": [
    "requirements = [\"raw_snp_counts\", \"phasing\", \"blocks\"]\n",
    "\n",
    "data = {\n",
    "    dtype : \n",
    "    util.pickle_load(workspace.tmp_data[dtype])\n",
    "    for dtype in tqdm_notebook(\n",
    "        requirements,\n",
    "        \"loading datasets into RAM\"\n",
    "    )\n",
    "}"
   ]
  },
  {
   "cell_type": "markdown",
   "metadata": {},
   "source": [
    "Let's ensure that \"X\" and \"y\" chromosomes are dropped out.  \n",
    "They are of no interest when it comes to allelic rates."
   ]
  },
  {
   "cell_type": "code",
   "execution_count": 77,
   "metadata": {
    "code_folding": [
     4
    ],
    "scrolled": true
   },
   "outputs": [
    {
     "data": {
      "application/vnd.jupyter.widget-view+json": {
       "model_id": "b1d21425c0744a978d9794d79f2860fb",
       "version_major": 2,
       "version_minor": 0
      },
      "text/plain": [
       "HBox(children=(IntProgress(value=0, description='extracting snps...', max=1156695, style=ProgressStyle(descrip…"
      ]
     },
     "metadata": {},
     "output_type": "display_data"
    },
    {
     "data": {
      "application/vnd.jupyter.widget-view+json": {
       "model_id": "882dba91864d4e7499b99bce55750ed9",
       "version_major": 2,
       "version_minor": 0
      },
      "text/plain": [
       "HBox(children=(IntProgress(value=0, description='extracting snps...', max=6629429, style=ProgressStyle(descrip…"
      ]
     },
     "metadata": {},
     "output_type": "display_data"
    }
   ],
   "source": [
    "snp_df = data[\"raw_snp_counts\"][[\"CHROM\", \"POS\"]].to_dense()\n",
    "all_snps = toolkit.extract_snps(\n",
    "    snp_df[~np.isin(snp_df[\"CHROM\"], [\"X\", \"y\"])]\n",
    ")\n",
    "phased_snps = toolkit.extract_snps(\n",
    "    data[\"phasing\"][\n",
    "        ~np.isin(data[\"phasing\"][\"CHROM\"], \n",
    "                 [\"X\", \"y\"])\n",
    "    ]\n",
    ")"
   ]
  },
  {
   "cell_type": "code",
   "execution_count": 78,
   "metadata": {},
   "outputs": [
    {
     "data": {
      "application/vnd.jupyter.widget-view+json": {
       "model_id": "022089e4fb3a41dab176442776b8c2fe",
       "version_major": 2,
       "version_minor": 0
      },
      "text/plain": [
       "HBox(children=(IntProgress(value=0, max=14334), HTML(value='')))"
      ]
     },
     "metadata": {},
     "output_type": "display_data"
    },
    {
     "data": {
      "text/html": [
       "<div>\n",
       "<style scoped>\n",
       "    .dataframe tbody tr th:only-of-type {\n",
       "        vertical-align: middle;\n",
       "    }\n",
       "\n",
       "    .dataframe tbody tr th {\n",
       "        vertical-align: top;\n",
       "    }\n",
       "\n",
       "    .dataframe thead th {\n",
       "        text-align: right;\n",
       "    }\n",
       "</style>\n",
       "<table border=\"1\" class=\"dataframe\">\n",
       "  <thead>\n",
       "    <tr style=\"text-align: right;\">\n",
       "      <th></th>\n",
       "      <th>CHROM</th>\n",
       "      <th>POS</th>\n",
       "      <th>AAACGAAAGGGAGATA-1_ad</th>\n",
       "      <th>AAACGAAAGGGAGATA-1_dp</th>\n",
       "      <th>AAACGAAAGTCGATAA-1_ad</th>\n",
       "      <th>AAACGAAAGTCGATAA-1_dp</th>\n",
       "      <th>AAACGAACAAACCCTA-1_ad</th>\n",
       "      <th>AAACGAACAAACCCTA-1_dp</th>\n",
       "      <th>AAACGAACAACGCACC-1_ad</th>\n",
       "      <th>AAACGAACAACGCACC-1_dp</th>\n",
       "      <th>...</th>\n",
       "      <th>TTTGTGTGTTTGATCG-1_ad</th>\n",
       "      <th>TTTGTGTGTTTGATCG-1_dp</th>\n",
       "      <th>TTTGTGTTCCTATCAT-1_ad</th>\n",
       "      <th>TTTGTGTTCCTATCAT-1_dp</th>\n",
       "      <th>TTTGTGTTCCTCATTA-1_ad</th>\n",
       "      <th>TTTGTGTTCCTCATTA-1_dp</th>\n",
       "      <th>TTTGTGTTCGCTAGTA-1_ad</th>\n",
       "      <th>TTTGTGTTCGCTAGTA-1_dp</th>\n",
       "      <th>TTTGTGTTCTTAATCC-1_ad</th>\n",
       "      <th>TTTGTGTTCTTAATCC-1_dp</th>\n",
       "    </tr>\n",
       "  </thead>\n",
       "  <tbody>\n",
       "    <tr>\n",
       "      <th>0</th>\n",
       "      <td>1.0</td>\n",
       "      <td>14001867.0</td>\n",
       "      <td>NaN</td>\n",
       "      <td>NaN</td>\n",
       "      <td>NaN</td>\n",
       "      <td>NaN</td>\n",
       "      <td>NaN</td>\n",
       "      <td>NaN</td>\n",
       "      <td>NaN</td>\n",
       "      <td>NaN</td>\n",
       "      <td>...</td>\n",
       "      <td>NaN</td>\n",
       "      <td>NaN</td>\n",
       "      <td>NaN</td>\n",
       "      <td>NaN</td>\n",
       "      <td>NaN</td>\n",
       "      <td>NaN</td>\n",
       "      <td>NaN</td>\n",
       "      <td>NaN</td>\n",
       "      <td>NaN</td>\n",
       "      <td>NaN</td>\n",
       "    </tr>\n",
       "    <tr>\n",
       "      <th>1</th>\n",
       "      <td>1.0</td>\n",
       "      <td>14003581.0</td>\n",
       "      <td>NaN</td>\n",
       "      <td>NaN</td>\n",
       "      <td>NaN</td>\n",
       "      <td>NaN</td>\n",
       "      <td>NaN</td>\n",
       "      <td>NaN</td>\n",
       "      <td>NaN</td>\n",
       "      <td>NaN</td>\n",
       "      <td>...</td>\n",
       "      <td>NaN</td>\n",
       "      <td>NaN</td>\n",
       "      <td>NaN</td>\n",
       "      <td>NaN</td>\n",
       "      <td>NaN</td>\n",
       "      <td>NaN</td>\n",
       "      <td>NaN</td>\n",
       "      <td>NaN</td>\n",
       "      <td>NaN</td>\n",
       "      <td>NaN</td>\n",
       "    </tr>\n",
       "    <tr>\n",
       "      <th>2</th>\n",
       "      <td>1.0</td>\n",
       "      <td>14007558.0</td>\n",
       "      <td>NaN</td>\n",
       "      <td>NaN</td>\n",
       "      <td>NaN</td>\n",
       "      <td>NaN</td>\n",
       "      <td>NaN</td>\n",
       "      <td>NaN</td>\n",
       "      <td>NaN</td>\n",
       "      <td>NaN</td>\n",
       "      <td>...</td>\n",
       "      <td>NaN</td>\n",
       "      <td>NaN</td>\n",
       "      <td>NaN</td>\n",
       "      <td>NaN</td>\n",
       "      <td>NaN</td>\n",
       "      <td>NaN</td>\n",
       "      <td>NaN</td>\n",
       "      <td>NaN</td>\n",
       "      <td>NaN</td>\n",
       "      <td>NaN</td>\n",
       "    </tr>\n",
       "    <tr>\n",
       "      <th>3</th>\n",
       "      <td>1.0</td>\n",
       "      <td>14007649.0</td>\n",
       "      <td>NaN</td>\n",
       "      <td>NaN</td>\n",
       "      <td>NaN</td>\n",
       "      <td>NaN</td>\n",
       "      <td>NaN</td>\n",
       "      <td>NaN</td>\n",
       "      <td>NaN</td>\n",
       "      <td>NaN</td>\n",
       "      <td>...</td>\n",
       "      <td>NaN</td>\n",
       "      <td>NaN</td>\n",
       "      <td>NaN</td>\n",
       "      <td>NaN</td>\n",
       "      <td>NaN</td>\n",
       "      <td>NaN</td>\n",
       "      <td>NaN</td>\n",
       "      <td>NaN</td>\n",
       "      <td>NaN</td>\n",
       "      <td>NaN</td>\n",
       "    </tr>\n",
       "    <tr>\n",
       "      <th>4</th>\n",
       "      <td>1.0</td>\n",
       "      <td>14008734.0</td>\n",
       "      <td>NaN</td>\n",
       "      <td>NaN</td>\n",
       "      <td>NaN</td>\n",
       "      <td>NaN</td>\n",
       "      <td>NaN</td>\n",
       "      <td>NaN</td>\n",
       "      <td>NaN</td>\n",
       "      <td>NaN</td>\n",
       "      <td>...</td>\n",
       "      <td>NaN</td>\n",
       "      <td>NaN</td>\n",
       "      <td>NaN</td>\n",
       "      <td>NaN</td>\n",
       "      <td>NaN</td>\n",
       "      <td>NaN</td>\n",
       "      <td>NaN</td>\n",
       "      <td>NaN</td>\n",
       "      <td>NaN</td>\n",
       "      <td>NaN</td>\n",
       "    </tr>\n",
       "  </tbody>\n",
       "</table>\n",
       "<p>5 rows × 14334 columns</p>\n",
       "</div>"
      ],
      "text/plain": [
       "   CHROM         POS  AAACGAAAGGGAGATA-1_ad  AAACGAAAGGGAGATA-1_dp  \\\n",
       "0    1.0  14001867.0                    NaN                    NaN   \n",
       "1    1.0  14003581.0                    NaN                    NaN   \n",
       "2    1.0  14007558.0                    NaN                    NaN   \n",
       "3    1.0  14007649.0                    NaN                    NaN   \n",
       "4    1.0  14008734.0                    NaN                    NaN   \n",
       "\n",
       "   AAACGAAAGTCGATAA-1_ad  AAACGAAAGTCGATAA-1_dp  AAACGAACAAACCCTA-1_ad  \\\n",
       "0                    NaN                    NaN                    NaN   \n",
       "1                    NaN                    NaN                    NaN   \n",
       "2                    NaN                    NaN                    NaN   \n",
       "3                    NaN                    NaN                    NaN   \n",
       "4                    NaN                    NaN                    NaN   \n",
       "\n",
       "   AAACGAACAAACCCTA-1_dp  AAACGAACAACGCACC-1_ad  AAACGAACAACGCACC-1_dp  ...  \\\n",
       "0                    NaN                    NaN                    NaN  ...   \n",
       "1                    NaN                    NaN                    NaN  ...   \n",
       "2                    NaN                    NaN                    NaN  ...   \n",
       "3                    NaN                    NaN                    NaN  ...   \n",
       "4                    NaN                    NaN                    NaN  ...   \n",
       "\n",
       "   TTTGTGTGTTTGATCG-1_ad  TTTGTGTGTTTGATCG-1_dp  TTTGTGTTCCTATCAT-1_ad  \\\n",
       "0                    NaN                    NaN                    NaN   \n",
       "1                    NaN                    NaN                    NaN   \n",
       "2                    NaN                    NaN                    NaN   \n",
       "3                    NaN                    NaN                    NaN   \n",
       "4                    NaN                    NaN                    NaN   \n",
       "\n",
       "   TTTGTGTTCCTATCAT-1_dp  TTTGTGTTCCTCATTA-1_ad  TTTGTGTTCCTCATTA-1_dp  \\\n",
       "0                    NaN                    NaN                    NaN   \n",
       "1                    NaN                    NaN                    NaN   \n",
       "2                    NaN                    NaN                    NaN   \n",
       "3                    NaN                    NaN                    NaN   \n",
       "4                    NaN                    NaN                    NaN   \n",
       "\n",
       "   TTTGTGTTCGCTAGTA-1_ad  TTTGTGTTCGCTAGTA-1_dp  TTTGTGTTCTTAATCC-1_ad  \\\n",
       "0                    NaN                    NaN                    NaN   \n",
       "1                    NaN                    NaN                    NaN   \n",
       "2                    NaN                    NaN                    NaN   \n",
       "3                    NaN                    NaN                    NaN   \n",
       "4                    NaN                    NaN                    NaN   \n",
       "\n",
       "   TTTGTGTTCTTAATCC-1_dp  \n",
       "0                    NaN  \n",
       "1                    NaN  \n",
       "2                    NaN  \n",
       "3                    NaN  \n",
       "4                    NaN  \n",
       "\n",
       "[5 rows x 14334 columns]"
      ]
     },
     "execution_count": 78,
     "metadata": {},
     "output_type": "execute_result"
    }
   ],
   "source": [
    "preserve_mask = (\n",
    "    ((snp_df[\"CHROM\"] != 'X') & (snp_df[\"CHROM\"] != 'y'))\n",
    "    & np.isin(all_snps, phased_snps)\n",
    ")\n",
    "filtered_counts = []\n",
    "for colname in tqdm_notebook(data[\"raw_snp_counts\"].columns):\n",
    "    dense_col = data[\"raw_snp_counts\"][colname].to_dense()\n",
    "    filtered_counts.append(\n",
    "        dense_col[preserve_mask]\\\n",
    "        .astype(np.float64)\\\n",
    "        .reset_index(drop=True)\\\n",
    "        .to_sparse(fill_value=np.nan)\n",
    "    )\n",
    "filtered_counts_df = pd.concat(filtered_counts, axis=1)\n",
    "filtered_counts_df.head()"
   ]
  },
  {
   "cell_type": "code",
   "execution_count": 79,
   "metadata": {},
   "outputs": [],
   "source": [
    "data[\"raw_snp_counts\"] = filtered_counts_df"
   ]
  },
  {
   "cell_type": "code",
   "execution_count": 80,
   "metadata": {},
   "outputs": [],
   "source": [
    "data[\"phasing\"] = data[\"phasing\"][\n",
    "    ~np.isin(data[\"phasing\"].CHROM, [\"X\", \"y\"])\n",
    "].reset_index(drop=True)"
   ]
  },
  {
   "cell_type": "code",
   "execution_count": 81,
   "metadata": {
    "code_folding": []
   },
   "outputs": [],
   "source": [
    "data[\"blocks\"] = data[\"blocks\"][\n",
    "    ~np.isin(data[\"blocks\"].CHROM, [\"X\", \"y\"])\n",
    "].reset_index(drop=True)"
   ]
  },
  {
   "cell_type": "code",
   "execution_count": 82,
   "metadata": {},
   "outputs": [
    {
     "data": {
      "text/html": [
       "<div>\n",
       "<style scoped>\n",
       "    .dataframe tbody tr th:only-of-type {\n",
       "        vertical-align: middle;\n",
       "    }\n",
       "\n",
       "    .dataframe tbody tr th {\n",
       "        vertical-align: top;\n",
       "    }\n",
       "\n",
       "    .dataframe thead th {\n",
       "        text-align: right;\n",
       "    }\n",
       "</style>\n",
       "<table border=\"1\" class=\"dataframe\">\n",
       "  <thead>\n",
       "    <tr style=\"text-align: right;\">\n",
       "      <th></th>\n",
       "      <th>CHROM</th>\n",
       "      <th>START</th>\n",
       "      <th>END</th>\n",
       "      <th>COPY_NUMBER</th>\n",
       "      <th>BLOCK_ID</th>\n",
       "    </tr>\n",
       "  </thead>\n",
       "  <tbody>\n",
       "    <tr>\n",
       "      <th>0</th>\n",
       "      <td>1</td>\n",
       "      <td>14000000</td>\n",
       "      <td>24000000</td>\n",
       "      <td>2</td>\n",
       "      <td>0</td>\n",
       "    </tr>\n",
       "    <tr>\n",
       "      <th>1</th>\n",
       "      <td>1</td>\n",
       "      <td>16000000</td>\n",
       "      <td>26000000</td>\n",
       "      <td>2</td>\n",
       "      <td>1</td>\n",
       "    </tr>\n",
       "    <tr>\n",
       "      <th>2</th>\n",
       "      <td>1</td>\n",
       "      <td>18000000</td>\n",
       "      <td>28000000</td>\n",
       "      <td>2</td>\n",
       "      <td>2</td>\n",
       "    </tr>\n",
       "    <tr>\n",
       "      <th>3</th>\n",
       "      <td>1</td>\n",
       "      <td>20000000</td>\n",
       "      <td>30000000</td>\n",
       "      <td>2</td>\n",
       "      <td>3</td>\n",
       "    </tr>\n",
       "    <tr>\n",
       "      <th>4</th>\n",
       "      <td>1</td>\n",
       "      <td>22000000</td>\n",
       "      <td>32000000</td>\n",
       "      <td>2</td>\n",
       "      <td>4</td>\n",
       "    </tr>\n",
       "  </tbody>\n",
       "</table>\n",
       "</div>"
      ],
      "text/plain": [
       "  CHROM     START       END  COPY_NUMBER BLOCK_ID\n",
       "0     1  14000000  24000000            2        0\n",
       "1     1  16000000  26000000            2        1\n",
       "2     1  18000000  28000000            2        2\n",
       "3     1  20000000  30000000            2        3\n",
       "4     1  22000000  32000000            2        4"
      ]
     },
     "execution_count": 82,
     "metadata": {},
     "output_type": "execute_result"
    }
   ],
   "source": [
    "data[\"blocks\"].head()"
   ]
  },
  {
   "cell_type": "markdown",
   "metadata": {},
   "source": [
    "## Ensuring that alternative allele is maternal (0|1 in raw phasing results)"
   ]
  },
  {
   "cell_type": "code",
   "execution_count": 83,
   "metadata": {
    "code_folding": []
   },
   "outputs": [],
   "source": [
    "def phase_snp_counts(raw_snp_counts_df, phasing_df):\n",
    "\n",
    "    counts_df = raw_snp_counts_df.copy()\n",
    "    counts_df[\"PHASE\"] = phasing_df.PHASE\n",
    "    male_alt = counts_df.PHASE == 1\n",
    "    \n",
    "    print(\"Ensuring that non-phased SNPs were filtered out\")\n",
    "    assert np.all(np.isin(toolkit.extract_snps(counts_df), \n",
    "                  toolkit.extract_snps(phasing_df)))\n",
    "\n",
    "    for barcode in tqdm_notebook(toolkit.extract_barcodes(counts_df), \n",
    "                                 desc=f\"cell_barcode\"):\n",
    "        ad = counts_df[f\"{barcode}_ad\"].to_dense()\n",
    "        dp = counts_df[f\"{barcode}_dp\"].to_dense()\n",
    "        ad[male_alt] = dp[male_alt].sub(ad[male_alt], fill_value=0)\n",
    "        counts_df[f\"{barcode}_ad\"] = ad.to_sparse()\n",
    "\n",
    "    new_nan_stats = util.nan_fraction(counts_df.drop(columns=[\"PHASE\"]))\n",
    "    old_nan_stats = util.nan_fraction(raw_snp_counts_df)\n",
    "\n",
    "    assert old_nan_stats == new_nan_stats\n",
    "\n",
    "    print(\"{:.2f}% of non-missing read counts\".format(\n",
    "        100 * np.mean(~counts_df.iloc[:, 2:].isna().values.astype(bool))\n",
    "    ))\n",
    "    return counts_df"
   ]
  },
  {
   "cell_type": "code",
   "execution_count": 84,
   "metadata": {},
   "outputs": [
    {
     "name": "stdout",
     "output_type": "stream",
     "text": [
      "Ensuring that non-phased SNPs were filtered out\n"
     ]
    },
    {
     "data": {
      "application/vnd.jupyter.widget-view+json": {
       "model_id": "ac5755dbe4334d7ab7bc22bc89d189fe",
       "version_major": 2,
       "version_minor": 0
      },
      "text/plain": [
       "HBox(children=(IntProgress(value=0, description='extracting snps...', max=1008454, style=ProgressStyle(descrip…"
      ]
     },
     "metadata": {},
     "output_type": "display_data"
    },
    {
     "data": {
      "application/vnd.jupyter.widget-view+json": {
       "model_id": "f0562c9be9bf458faab07d6a20d438f0",
       "version_major": 2,
       "version_minor": 0
      },
      "text/plain": [
       "HBox(children=(IntProgress(value=0, description='extracting snps...', max=6629429, style=ProgressStyle(descrip…"
      ]
     },
     "metadata": {},
     "output_type": "display_data"
    },
    {
     "data": {
      "application/vnd.jupyter.widget-view+json": {
       "model_id": "82656ca03ebf417680df3fb0084183f1",
       "version_major": 2,
       "version_minor": 0
      },
      "text/plain": [
       "HBox(children=(IntProgress(value=0, description='cell_barcode', max=7166, style=ProgressStyle(description_widt…"
      ]
     },
     "metadata": {},
     "output_type": "display_data"
    },
    {
     "name": "stdout",
     "output_type": "stream",
     "text": [
      "0.06% of non-missing read counts\n",
      "CPU times: user 32min 11s, sys: 2min 9s, total: 34min 21s\n",
      "Wall time: 34min 39s\n"
     ]
    },
    {
     "data": {
      "text/html": [
       "<div>\n",
       "<style scoped>\n",
       "    .dataframe tbody tr th:only-of-type {\n",
       "        vertical-align: middle;\n",
       "    }\n",
       "\n",
       "    .dataframe tbody tr th {\n",
       "        vertical-align: top;\n",
       "    }\n",
       "\n",
       "    .dataframe thead th {\n",
       "        text-align: right;\n",
       "    }\n",
       "</style>\n",
       "<table border=\"1\" class=\"dataframe\">\n",
       "  <thead>\n",
       "    <tr style=\"text-align: right;\">\n",
       "      <th></th>\n",
       "      <th>CHROM</th>\n",
       "      <th>POS</th>\n",
       "      <th>AAACGAAAGGGAGATA-1_ad</th>\n",
       "      <th>AAACGAAAGGGAGATA-1_dp</th>\n",
       "      <th>AAACGAAAGTCGATAA-1_ad</th>\n",
       "      <th>AAACGAAAGTCGATAA-1_dp</th>\n",
       "      <th>AAACGAACAAACCCTA-1_ad</th>\n",
       "      <th>AAACGAACAAACCCTA-1_dp</th>\n",
       "      <th>AAACGAACAACGCACC-1_ad</th>\n",
       "      <th>AAACGAACAACGCACC-1_dp</th>\n",
       "      <th>...</th>\n",
       "      <th>TTTGTGTGTTTGATCG-1_dp</th>\n",
       "      <th>TTTGTGTTCCTATCAT-1_ad</th>\n",
       "      <th>TTTGTGTTCCTATCAT-1_dp</th>\n",
       "      <th>TTTGTGTTCCTCATTA-1_ad</th>\n",
       "      <th>TTTGTGTTCCTCATTA-1_dp</th>\n",
       "      <th>TTTGTGTTCGCTAGTA-1_ad</th>\n",
       "      <th>TTTGTGTTCGCTAGTA-1_dp</th>\n",
       "      <th>TTTGTGTTCTTAATCC-1_ad</th>\n",
       "      <th>TTTGTGTTCTTAATCC-1_dp</th>\n",
       "      <th>PHASE</th>\n",
       "    </tr>\n",
       "  </thead>\n",
       "  <tbody>\n",
       "    <tr>\n",
       "      <th>0</th>\n",
       "      <td>1.0</td>\n",
       "      <td>14001867.0</td>\n",
       "      <td>NaN</td>\n",
       "      <td>NaN</td>\n",
       "      <td>NaN</td>\n",
       "      <td>NaN</td>\n",
       "      <td>NaN</td>\n",
       "      <td>NaN</td>\n",
       "      <td>NaN</td>\n",
       "      <td>NaN</td>\n",
       "      <td>...</td>\n",
       "      <td>NaN</td>\n",
       "      <td>NaN</td>\n",
       "      <td>NaN</td>\n",
       "      <td>NaN</td>\n",
       "      <td>NaN</td>\n",
       "      <td>NaN</td>\n",
       "      <td>NaN</td>\n",
       "      <td>NaN</td>\n",
       "      <td>NaN</td>\n",
       "      <td>1</td>\n",
       "    </tr>\n",
       "    <tr>\n",
       "      <th>1</th>\n",
       "      <td>1.0</td>\n",
       "      <td>14003581.0</td>\n",
       "      <td>NaN</td>\n",
       "      <td>NaN</td>\n",
       "      <td>NaN</td>\n",
       "      <td>NaN</td>\n",
       "      <td>NaN</td>\n",
       "      <td>NaN</td>\n",
       "      <td>NaN</td>\n",
       "      <td>NaN</td>\n",
       "      <td>...</td>\n",
       "      <td>NaN</td>\n",
       "      <td>NaN</td>\n",
       "      <td>NaN</td>\n",
       "      <td>NaN</td>\n",
       "      <td>NaN</td>\n",
       "      <td>NaN</td>\n",
       "      <td>NaN</td>\n",
       "      <td>NaN</td>\n",
       "      <td>NaN</td>\n",
       "      <td>1</td>\n",
       "    </tr>\n",
       "    <tr>\n",
       "      <th>2</th>\n",
       "      <td>1.0</td>\n",
       "      <td>14007558.0</td>\n",
       "      <td>NaN</td>\n",
       "      <td>NaN</td>\n",
       "      <td>NaN</td>\n",
       "      <td>NaN</td>\n",
       "      <td>NaN</td>\n",
       "      <td>NaN</td>\n",
       "      <td>NaN</td>\n",
       "      <td>NaN</td>\n",
       "      <td>...</td>\n",
       "      <td>NaN</td>\n",
       "      <td>NaN</td>\n",
       "      <td>NaN</td>\n",
       "      <td>NaN</td>\n",
       "      <td>NaN</td>\n",
       "      <td>NaN</td>\n",
       "      <td>NaN</td>\n",
       "      <td>NaN</td>\n",
       "      <td>NaN</td>\n",
       "      <td>1</td>\n",
       "    </tr>\n",
       "    <tr>\n",
       "      <th>3</th>\n",
       "      <td>1.0</td>\n",
       "      <td>14007649.0</td>\n",
       "      <td>NaN</td>\n",
       "      <td>NaN</td>\n",
       "      <td>NaN</td>\n",
       "      <td>NaN</td>\n",
       "      <td>NaN</td>\n",
       "      <td>NaN</td>\n",
       "      <td>NaN</td>\n",
       "      <td>NaN</td>\n",
       "      <td>...</td>\n",
       "      <td>NaN</td>\n",
       "      <td>NaN</td>\n",
       "      <td>NaN</td>\n",
       "      <td>NaN</td>\n",
       "      <td>NaN</td>\n",
       "      <td>NaN</td>\n",
       "      <td>NaN</td>\n",
       "      <td>NaN</td>\n",
       "      <td>NaN</td>\n",
       "      <td>1</td>\n",
       "    </tr>\n",
       "    <tr>\n",
       "      <th>4</th>\n",
       "      <td>1.0</td>\n",
       "      <td>14008734.0</td>\n",
       "      <td>NaN</td>\n",
       "      <td>NaN</td>\n",
       "      <td>NaN</td>\n",
       "      <td>NaN</td>\n",
       "      <td>NaN</td>\n",
       "      <td>NaN</td>\n",
       "      <td>NaN</td>\n",
       "      <td>NaN</td>\n",
       "      <td>...</td>\n",
       "      <td>NaN</td>\n",
       "      <td>NaN</td>\n",
       "      <td>NaN</td>\n",
       "      <td>NaN</td>\n",
       "      <td>NaN</td>\n",
       "      <td>NaN</td>\n",
       "      <td>NaN</td>\n",
       "      <td>NaN</td>\n",
       "      <td>NaN</td>\n",
       "      <td>1</td>\n",
       "    </tr>\n",
       "  </tbody>\n",
       "</table>\n",
       "<p>5 rows × 14335 columns</p>\n",
       "</div>"
      ],
      "text/plain": [
       "   CHROM         POS  AAACGAAAGGGAGATA-1_ad  AAACGAAAGGGAGATA-1_dp  \\\n",
       "0    1.0  14001867.0                    NaN                    NaN   \n",
       "1    1.0  14003581.0                    NaN                    NaN   \n",
       "2    1.0  14007558.0                    NaN                    NaN   \n",
       "3    1.0  14007649.0                    NaN                    NaN   \n",
       "4    1.0  14008734.0                    NaN                    NaN   \n",
       "\n",
       "   AAACGAAAGTCGATAA-1_ad  AAACGAAAGTCGATAA-1_dp  AAACGAACAAACCCTA-1_ad  \\\n",
       "0                    NaN                    NaN                    NaN   \n",
       "1                    NaN                    NaN                    NaN   \n",
       "2                    NaN                    NaN                    NaN   \n",
       "3                    NaN                    NaN                    NaN   \n",
       "4                    NaN                    NaN                    NaN   \n",
       "\n",
       "   AAACGAACAAACCCTA-1_dp  AAACGAACAACGCACC-1_ad  AAACGAACAACGCACC-1_dp  ...  \\\n",
       "0                    NaN                    NaN                    NaN  ...   \n",
       "1                    NaN                    NaN                    NaN  ...   \n",
       "2                    NaN                    NaN                    NaN  ...   \n",
       "3                    NaN                    NaN                    NaN  ...   \n",
       "4                    NaN                    NaN                    NaN  ...   \n",
       "\n",
       "   TTTGTGTGTTTGATCG-1_dp  TTTGTGTTCCTATCAT-1_ad  TTTGTGTTCCTATCAT-1_dp  \\\n",
       "0                    NaN                    NaN                    NaN   \n",
       "1                    NaN                    NaN                    NaN   \n",
       "2                    NaN                    NaN                    NaN   \n",
       "3                    NaN                    NaN                    NaN   \n",
       "4                    NaN                    NaN                    NaN   \n",
       "\n",
       "   TTTGTGTTCCTCATTA-1_ad  TTTGTGTTCCTCATTA-1_dp  TTTGTGTTCGCTAGTA-1_ad  \\\n",
       "0                    NaN                    NaN                    NaN   \n",
       "1                    NaN                    NaN                    NaN   \n",
       "2                    NaN                    NaN                    NaN   \n",
       "3                    NaN                    NaN                    NaN   \n",
       "4                    NaN                    NaN                    NaN   \n",
       "\n",
       "   TTTGTGTTCGCTAGTA-1_dp  TTTGTGTTCTTAATCC-1_ad  TTTGTGTTCTTAATCC-1_dp  PHASE  \n",
       "0                    NaN                    NaN                    NaN      1  \n",
       "1                    NaN                    NaN                    NaN      1  \n",
       "2                    NaN                    NaN                    NaN      1  \n",
       "3                    NaN                    NaN                    NaN      1  \n",
       "4                    NaN                    NaN                    NaN      1  \n",
       "\n",
       "[5 rows x 14335 columns]"
      ]
     },
     "execution_count": 84,
     "metadata": {},
     "output_type": "execute_result"
    }
   ],
   "source": [
    "%%time\n",
    "warnings.simplefilter(\"ignore\", pd.core.common.SettingWithCopyWarning)\n",
    "data[\"snp_counts\"] = phase_snp_counts(data[\"raw_snp_counts\"], data[\"phasing\"])\n",
    "data[\"snp_counts\"].head()"
   ]
  },
  {
   "cell_type": "code",
   "execution_count": 85,
   "metadata": {},
   "outputs": [
    {
     "name": "stderr",
     "output_type": "stream",
     "text": [
      "/icgc/dkfzlsdf/analysis/B260/users/v390v/xclone/data/tmp/preprocessing/N5CC3E-T1/scATAC/snp_counts.pkl —> /icgc/dkfzlsdf/analysis/B260/users/v390v/xclone/data/processed/N5CC3E-T1/scATAC/10mb_eagle2_phased_snp_counts.pkl\n"
     ]
    }
   ],
   "source": [
    "util.pickle_dump(\n",
    "    data[\"snp_counts\"],\n",
    "    os.path.join(\n",
    "        workspace.tmp_dir,\n",
    "        \"snp_counts.pkl\"\n",
    "    )\n",
    ")\n",
    "# util.pickle_dump(\n",
    "#     data[\"raw_snp_counts\"],\n",
    "#     os.path.join(\n",
    "#         workspace.tmp_dir,\n",
    "#         \"raw_snp_counts.pkl\"\n",
    "#     )\n",
    "# )\n",
    "# util.pickle_dump(\n",
    "#     data[\"phasing\"],\n",
    "#     os.path.join(\n",
    "#         workspace.tmp_dir,\n",
    "#         \"phasing.pkl\"\n",
    "#     )\n",
    "# )\n",
    "# util.pickle_dump(\n",
    "#     data[\"blocks\"],\n",
    "#     os.path.join(\n",
    "#         workspace.tmp_dir,\n",
    "#         \"blocks.pkl\"\n",
    "#     )\n",
    "# )\n",
    "# workspace.add_entry(\"raw_snp_counts_T1\", \"raw_snp_counts_T1.pkl\")\n",
    "workspace.add_entry(\"snp_counts\", \"10mb_eagle2_phased_snp_counts.pkl\")\n",
    "# workspace.add_entry(\"phasing\", \"phasing.pkl\")\n",
    "# workspace.add_entry(\"blocks\", \"haplotype_blocks.pkl\")\n",
    "workspace.verify()\n",
    "workspace.push()"
   ]
  }
 ],
 "metadata": {
  "kernelspec": {
   "display_name": "Python 3",
   "language": "python",
   "name": "python3"
  },
  "language_info": {
   "codemirror_mode": {
    "name": "ipython",
    "version": 3
   },
   "file_extension": ".py",
   "mimetype": "text/x-python",
   "name": "python",
   "nbconvert_exporter": "python",
   "pygments_lexer": "ipython3",
   "version": "3.7.3"
  },
  "toc": {
   "base_numbering": 1,
   "nav_menu": {},
   "number_sections": true,
   "sideBar": true,
   "skip_h1_title": false,
   "title_cell": "Table of Contents",
   "title_sidebar": "Contents",
   "toc_cell": false,
   "toc_position": {},
   "toc_section_display": true,
   "toc_window_display": false
  },
  "varInspector": {
   "cols": {
    "lenName": 16,
    "lenType": 16,
    "lenVar": 40
   },
   "kernels_config": {
    "python": {
     "delete_cmd_postfix": "",
     "delete_cmd_prefix": "del ",
     "library": "var_list.py",
     "varRefreshCmd": "print(var_dic_list())"
    },
    "r": {
     "delete_cmd_postfix": ") ",
     "delete_cmd_prefix": "rm(",
     "library": "var_list.r",
     "varRefreshCmd": "cat(var_dic_list()) "
    }
   },
   "types_to_exclude": [
    "module",
    "function",
    "builtin_function_or_method",
    "instance",
    "_Feature"
   ],
   "window_display": false
  }
 },
 "nbformat": 4,
 "nbformat_minor": 2
}
